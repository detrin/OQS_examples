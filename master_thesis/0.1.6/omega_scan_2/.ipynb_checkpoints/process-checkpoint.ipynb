{
 "cells": [
  {
   "cell_type": "code",
   "execution_count": 43,
   "id": "c6869dd6",
   "metadata": {
    "ExecuteTime": {
     "end_time": "2022-04-19T12:39:38.460000+02:00",
     "start_time": "2022-04-19T10:39:38.346Z"
    }
   },
   "outputs": [
    {
     "name": "stderr",
     "output_type": "stream",
     "text": [
      "\u001b[32m\u001b[1m  Activating\u001b[22m\u001b[39m environment at `C:\\Users\\daniel.herman\\Documents\\Mgr\\OpenQuantumSystems\\OpenQuantumSystems.jl\\Project.toml`\n"
     ]
    }
   ],
   "source": [
    "using Revise\n",
    "using Pkg; Pkg.activate(raw\"C:\\Users\\daniel.herman\\Documents\\Mgr\\OpenQuantumSystems\\OpenQuantumSystems.jl\")\n",
    "using OpenQuantumSystems\n",
    "using LinearAlgebra\n",
    "using SparseArrays\n",
    "using Interpolations\n",
    "using HDF5\n",
    "using Measures\n",
    "\n",
    "import Base.log10"
   ]
  },
  {
   "cell_type": "code",
   "execution_count": 44,
   "id": "73bfb174",
   "metadata": {
    "ExecuteTime": {
     "end_time": "2022-04-19T12:39:38.606000+02:00",
     "start_time": "2022-04-19T10:39:38.567Z"
    }
   },
   "outputs": [],
   "source": [
    "using BenchmarkTools\n",
    "using Plots\n",
    "using ProgressBars\n",
    "using OpenQuantumSystems\n",
    "# using OpenQuantumSystemsPrivate\n",
    "using LinearAlgebra\n",
    "using Random\n",
    "using QuadGK\n",
    "using ProgressMeter\n",
    "using Expokit\n",
    "# using DifferentialEquations\n",
    "\n",
    "Random.seed!(0)\n",
    "\n",
    "import OrdinaryDiffEq, DiffEqCallbacks, DelayDiffEq\n",
    "import SparseArrays: sparse\n",
    "import QuantumOpticsBase"
   ]
  },
  {
   "cell_type": "code",
   "execution_count": 45,
   "id": "b61ad3e1",
   "metadata": {
    "ExecuteTime": {
     "end_time": "2022-04-19T12:39:38.809000+02:00",
     "start_time": "2022-04-19T10:39:38.771Z"
    }
   },
   "outputs": [
    {
     "data": {
      "text/plain": [
       "6-element Vector{String}:\n",
       " \"Evolution_sI_exact\"\n",
       " \"QME_sI_ansatz_test\"\n",
       " \"QME_sI_ansatz_const_int\"\n",
       " \"QME_sI_ansatz_upart1_int\"\n",
       " \"QME_sI_ansatz_upart2_int\"\n",
       " \"QME_sI_iterative_1\""
      ]
     },
     "execution_count": 45,
     "metadata": {},
     "output_type": "execute_result"
    }
   ],
   "source": [
    "sim_labels = [\n",
    "    \"Evolution_sI_exact\",\n",
    "    \"QME_sI_ansatz_test\",\n",
    "    \"QME_sI_ansatz_const_int\",\n",
    "    \"QME_sI_ansatz_upart1_int\",\n",
    "    \"QME_sI_ansatz_upart2_int\",\n",
    "    \"QME_sI_iterative_1\"\n",
    "]"
   ]
  },
  {
   "cell_type": "code",
   "execution_count": 46,
   "id": "f6f8b031",
   "metadata": {
    "ExecuteTime": {
     "end_time": "2022-04-19T12:39:39.070000+02:00",
     "start_time": "2022-04-19T10:39:39.043Z"
    }
   },
   "outputs": [
    {
     "data": {
      "text/plain": [
       "read_data_pt (generic function with 1 method)"
      ]
     },
     "execution_count": 46,
     "metadata": {},
     "output_type": "execute_result"
    }
   ],
   "source": [
    "function read_data_pt(filename)\n",
    "    simulation_info, rho_int_l = h5open(filename, \"r\") do file\n",
    "        simulation_info = Dict{String,Any}(\"n\" => read(file, \"n\"))\n",
    "        for key in [\"hr1\", \"hr2\", \"tspan\", \"tspan_fs\"]\n",
    "            simulation_info[key] = read(file, key)\n",
    "        end\n",
    "        rho_int_l = []\n",
    "        for li=1:length(sim_labels)\n",
    "            label = sim_labels[li]\n",
    "            push!(rho_int_l, read(file, label))\n",
    "        end\n",
    "        return simulation_info, rho_int_l\n",
    "    end\n",
    "    return simulation_info, rho_int_l\n",
    "end"
   ]
  },
  {
   "cell_type": "code",
   "execution_count": 47,
   "id": "8acc4940",
   "metadata": {
    "ExecuteTime": {
     "end_time": "2022-04-19T12:39:39.131000+02:00",
     "start_time": "2022-04-19T10:39:39.111Z"
    }
   },
   "outputs": [
    {
     "data": {
      "text/plain": [
       "get_agg (generic function with 1 method)"
      ]
     },
     "execution_count": 47,
     "metadata": {},
     "output_type": "execute_result"
    }
   ],
   "source": [
    "function get_agg(hr1, hr2)\n",
    "    mols = [\n",
    "        Molecule([Mode(omega=200., hr_factor=hr1)], 3, [0., 12700.]),\n",
    "        Molecule([Mode(omega=200., hr_factor=hr2)], 3, [0., 12500.])\n",
    "    ]\n",
    "\n",
    "    aggCore = AggregateCore(mols)\n",
    "    for mol_i in 2:aggCore.molCount\n",
    "        aggCore.coupling[mol_i, mol_i+1] = 50\n",
    "        aggCore.coupling[mol_i+1, mol_i] = 50\n",
    "    end\n",
    "    agg = setupAggregate(aggCore)\n",
    "end"
   ]
  },
  {
   "cell_type": "code",
   "execution_count": 48,
   "id": "f6253411",
   "metadata": {
    "ExecuteTime": {
     "end_time": "2022-04-19T12:39:41.209000+02:00",
     "start_time": "2022-04-19T10:39:39.285Z"
    }
   },
   "outputs": [
    {
     "name": "stdout",
     "output_type": "stream",
     "text": [
      "\n"
     ]
    }
   ],
   "source": [
    "computed_data = []\n",
    "for filename in readdir(\"data\"; join=true)\n",
    "    simulation_info, rho_int_l = read_data_pt(filename)\n",
    "    push!(computed_data, [simulation_info, rho_int_l])\n",
    "end\n",
    "\n",
    "simulation_info, rho_int_l = computed_data[1]\n",
    "tspan = simulation_info[\"tspan\"]\n",
    "tspan_fs = simulation_info[\"tspan_fs\"]\n",
    "println(\"\")"
   ]
  },
  {
   "cell_type": "code",
   "execution_count": 49,
   "id": "0bc72dcd",
   "metadata": {
    "ExecuteTime": {
     "end_time": "2022-04-19T12:40:04.567000+02:00",
     "start_time": "2022-04-19T10:39:39.510Z"
    }
   },
   "outputs": [],
   "source": [
    "score_int = zeros(Float64, length(sim_labels), 3, 3, 10, 10) # simulations, eli, elj, hr1, hr2\n",
    "score_sch = zeros(Float64, length(sim_labels), 3, 3, 10, 10)\n",
    "score_exc = zeros(Float64, length(sim_labels), 3, 3, 10, 10)\n",
    "\n",
    "computed_n = Dict()\n",
    "simulation_dic = Dict()\n",
    "for (sim_info, rho_int_l) in computed_data\n",
    "    agg = get_agg(sim_info[\"hr1\"], sim_info[\"hr2\"])\n",
    "    n = sim_info[\"n\"]\n",
    "    hr1_i = n % 10 + 1\n",
    "    hr2_i = n ÷ 10 + 1\n",
    "    computed_n[n] = true\n",
    "    simulation_dic[n] = [sim_info, rho_int_l]\n",
    "    rho_l = []\n",
    "    for i=1:length(sim_labels)\n",
    "        push!(rho_l, interaction_pic_to_schroedinger_pic(rho_int_l[i], tspan, agg))\n",
    "    end\n",
    "\n",
    "    rho_exc_l = []\n",
    "    for i=1:length(sim_labels)\n",
    "        push!(rho_exc_l, local_st_to_exciton_st(rho_l[i], agg))\n",
    "    end\n",
    "\n",
    "    for li = 2:length(sim_labels)\n",
    "        label = sim_labels[li]\n",
    "        score_int[li, :, :, hr2_i, hr1_i] = compare_rho(rho_int_l[1], rho_int_l[li])\n",
    "        score_sch[li, :, :, hr2_i, hr1_i] = compare_rho(rho_l[1], rho_l[li])\n",
    "        score_exc[li, :, :, hr2_i, hr1_i] = compare_rho(rho_exc_l[1], rho_exc_l[li])\n",
    "    end\n",
    "end\n",
    "\n",
    "for n=0:99\n",
    "    if !haskey(computed_n, n)\n",
    "        println(n)\n",
    "    end\n",
    "end"
   ]
  },
  {
   "cell_type": "code",
   "execution_count": 50,
   "id": "450124ed",
   "metadata": {
    "ExecuteTime": {
     "end_time": "2022-04-19T12:40:04.583000+02:00",
     "start_time": "2022-04-19T10:39:39.757Z"
    }
   },
   "outputs": [
    {
     "data": {
      "text/plain": [
       "Dict{Int64, String} with 9 entries:\n",
       "  5 => \"QME.upart1_sch\"\n",
       "  4 => \"QME.const_sch\"\n",
       "  6 => \"QME.upart1_int\"\n",
       "  7 => \"QME.upart2_sch\"\n",
       "  2 => \"QME.test\"\n",
       "  9 => \"QME.iter1\"\n",
       "  8 => \"QME.upart2_int\"\n",
       "  3 => \"QME.const_int\"\n",
       "  1 => \"exact\""
      ]
     },
     "execution_count": 50,
     "metadata": {},
     "output_type": "execute_result"
    }
   ],
   "source": [
    "labels = Dict(\n",
    "    1 => \"exact\", 2 => \"QME.test\", \n",
    "    3 => \"QME.const_int\",  \n",
    "    4 => \"QME.upart1_int\",\n",
    "    7 => \"QME.upart2_int\", 8 => \"QME.upart2_int\", \n",
    "    9 => \"QME.iter1\"\n",
    ")"
   ]
  },
  {
   "cell_type": "code",
   "execution_count": 51,
   "id": "6f58a3b8",
   "metadata": {
    "ExecuteTime": {
     "end_time": "2022-04-19T12:40:04.642000+02:00",
     "start_time": "2022-04-19T10:39:39.871Z"
    }
   },
   "outputs": [
    {
     "ename": "LoadError",
     "evalue": "BoundsError: attempt to access 6×3×3×10×10 Array{Float64, 5} at index [7, 2, 2, 1:10, 1:10]",
     "output_type": "error",
     "traceback": [
      "BoundsError: attempt to access 6×3×3×10×10 Array{Float64, 5} at index [7, 2, 2, 1:10, 1:10]",
      "",
      "Stacktrace:",
      " [1] throw_boundserror(A::Array{Float64, 5}, I::Tuple{Int64, Int64, Int64, Base.Slice{Base.OneTo{Int64}}, Base.Slice{Base.OneTo{Int64}}})",
      "   @ Base .\\abstractarray.jl:651",
      " [2] checkbounds(::Array{Float64, 5}, ::Int64, ::Int64, ::Int64, ::Vararg{Any, N} where N)",
      "   @ Base .\\abstractarray.jl:616",
      " [3] _getindex(::IndexLinear, ::Array{Float64, 5}, ::Int64, ::Int64, ::Vararg{Union{Real, AbstractArray}, N} where N)",
      "   @ Base .\\multidimensional.jl:831",
      " [4] getindex(::Array{Float64, 5}, ::Int64, ::Int64, ::Int64, ::Function, ::Vararg{Function, N} where N)",
      "   @ Base .\\abstractarray.jl:1170",
      " [5] top-level scope",
      "   @ .\\In[51]:3",
      " [6] eval",
      "   @ .\\boot.jl:360 [inlined]",
      " [7] include_string(mapexpr::typeof(REPL.softscope), mod::Module, code::String, filename::String)",
      "   @ Base .\\loading.jl:1116"
     ]
    }
   ],
   "source": [
    "p_l = []\n",
    "for li=2:9\n",
    "    heatmap(log10.(score_int[li, 2, 2, :, :]), clim=(-5, 3))\n",
    "    p = plot!(\n",
    "        ylabel=\"ρ₂₂(t)\", xlabel=\"t (fs)\",\n",
    "        dpi=400, title=labels[li]\n",
    "    )\n",
    "    push!(p_l, p)\n",
    "end\n",
    "\n",
    "plot(\n",
    "    p_l[1], p_l[2], p_l[3], p_l[4], \n",
    "    p_l[5], p_l[6], p_l[7], p_l[8], \n",
    "    layout = (4, 2), margin = 5mm, size=(4*200,2*600)\n",
    ")"
   ]
  },
  {
   "cell_type": "code",
   "execution_count": 52,
   "id": "dea3b0f1",
   "metadata": {
    "ExecuteTime": {
     "end_time": "2022-04-19T12:40:04.698000+02:00",
     "start_time": "2022-04-19T10:39:40.024Z"
    }
   },
   "outputs": [
    {
     "ename": "LoadError",
     "evalue": "BoundsError: attempt to access 6×3×3×10×10 Array{Float64, 5} at index [7, 2, 3, 1:10, 1:10]",
     "output_type": "error",
     "traceback": [
      "BoundsError: attempt to access 6×3×3×10×10 Array{Float64, 5} at index [7, 2, 3, 1:10, 1:10]",
      "",
      "Stacktrace:",
      " [1] throw_boundserror(A::Array{Float64, 5}, I::Tuple{Int64, Int64, Int64, Base.Slice{Base.OneTo{Int64}}, Base.Slice{Base.OneTo{Int64}}})",
      "   @ Base .\\abstractarray.jl:651",
      " [2] checkbounds(::Array{Float64, 5}, ::Int64, ::Int64, ::Int64, ::Vararg{Any, N} where N)",
      "   @ Base .\\abstractarray.jl:616",
      " [3] _getindex(::IndexLinear, ::Array{Float64, 5}, ::Int64, ::Int64, ::Vararg{Union{Real, AbstractArray}, N} where N)",
      "   @ Base .\\multidimensional.jl:831",
      " [4] getindex(::Array{Float64, 5}, ::Int64, ::Int64, ::Int64, ::Function, ::Vararg{Function, N} where N)",
      "   @ Base .\\abstractarray.jl:1170",
      " [5] top-level scope",
      "   @ .\\In[52]:3",
      " [6] eval",
      "   @ .\\boot.jl:360 [inlined]",
      " [7] include_string(mapexpr::typeof(REPL.softscope), mod::Module, code::String, filename::String)",
      "   @ Base .\\loading.jl:1116"
     ]
    }
   ],
   "source": [
    "p_l = []\n",
    "for li=2:9\n",
    "    heatmap(log10.(score_int[li, 2, 3, :, :]), clim=(-2, 0))\n",
    "    p = plot!(\n",
    "        ylabel=\"ρ₂₂(t)\", xlabel=\"t (fs)\",\n",
    "        dpi=400, title=labels[li]\n",
    "    )\n",
    "    push!(p_l, p)\n",
    "end\n",
    "\n",
    "plot(\n",
    "    p_l[1], p_l[2], p_l[3], p_l[4], \n",
    "    p_l[5], p_l[6], p_l[7], p_l[8], \n",
    "    layout = (4, 2), margin = 5mm, size=(4*200,2*600)\n",
    ")"
   ]
  },
  {
   "cell_type": "code",
   "execution_count": 53,
   "id": "7a4a45ee",
   "metadata": {
    "ExecuteTime": {
     "end_time": "2022-04-19T12:40:04.773000+02:00",
     "start_time": "2022-04-19T10:39:40.148Z"
    }
   },
   "outputs": [
    {
     "ename": "LoadError",
     "evalue": "BoundsError: attempt to access 6×3×3×10×10 Array{Float64, 5} at index [8, 2, 2, 1:10, 1:10]",
     "output_type": "error",
     "traceback": [
      "BoundsError: attempt to access 6×3×3×10×10 Array{Float64, 5} at index [8, 2, 2, 1:10, 1:10]",
      "",
      "Stacktrace:",
      " [1] throw_boundserror(A::Array{Float64, 5}, I::Tuple{Int64, Int64, Int64, Base.Slice{Base.OneTo{Int64}}, Base.Slice{Base.OneTo{Int64}}})",
      "   @ Base .\\abstractarray.jl:651",
      " [2] checkbounds(::Array{Float64, 5}, ::Int64, ::Int64, ::Int64, ::Vararg{Any, N} where N)",
      "   @ Base .\\abstractarray.jl:616",
      " [3] _getindex(::IndexLinear, ::Array{Float64, 5}, ::Int64, ::Int64, ::Vararg{Union{Real, AbstractArray}, N} where N)",
      "   @ Base .\\multidimensional.jl:831",
      " [4] getindex(::Array{Float64, 5}, ::Int64, ::Int64, ::Int64, ::Function, ::Vararg{Function, N} where N)",
      "   @ Base .\\abstractarray.jl:1170",
      " [5] top-level scope",
      "   @ .\\In[53]:3",
      " [6] eval",
      "   @ .\\boot.jl:360 [inlined]",
      " [7] include_string(mapexpr::typeof(REPL.softscope), mod::Module, code::String, filename::String)",
      "   @ Base .\\loading.jl:1116"
     ]
    }
   ],
   "source": [
    "p_l = []\n",
    "for li in [3, 6, 8, 9]\n",
    "    heatmap(log10.(score_int[li, 2, 2, :, :]), clim=(-5, -1.5))\n",
    "    p = plot!(\n",
    "        ylabel=\"ρ₂₂(t)\", xlabel=\"t (fs)\",\n",
    "        dpi=400, title=labels[li]\n",
    "    )\n",
    "    push!(p_l, p)\n",
    "end\n",
    "\n",
    "plot(\n",
    "    p_l[1], p_l[2], p_l[3], p_l[4],\n",
    "    layout = (2, 2), margin = 5mm, size=(800,600)\n",
    ")"
   ]
  },
  {
   "cell_type": "code",
   "execution_count": 54,
   "id": "59908379",
   "metadata": {
    "ExecuteTime": {
     "end_time": "2022-04-19T12:40:04.843000+02:00",
     "start_time": "2022-04-19T10:39:40.470Z"
    }
   },
   "outputs": [
    {
     "ename": "LoadError",
     "evalue": "BoundsError: attempt to access 6×3×3×10×10 Array{Float64, 5} at index [8, 2, 2, 1:10, 1:10]",
     "output_type": "error",
     "traceback": [
      "BoundsError: attempt to access 6×3×3×10×10 Array{Float64, 5} at index [8, 2, 2, 1:10, 1:10]",
      "",
      "Stacktrace:",
      " [1] throw_boundserror(A::Array{Float64, 5}, I::Tuple{Int64, Int64, Int64, Base.Slice{Base.OneTo{Int64}}, Base.Slice{Base.OneTo{Int64}}})",
      "   @ Base .\\abstractarray.jl:651",
      " [2] checkbounds(::Array{Float64, 5}, ::Int64, ::Int64, ::Int64, ::Vararg{Any, N} where N)",
      "   @ Base .\\abstractarray.jl:616",
      " [3] _getindex(::IndexLinear, ::Array{Float64, 5}, ::Int64, ::Int64, ::Vararg{Union{Real, AbstractArray}, N} where N)",
      "   @ Base .\\multidimensional.jl:831",
      " [4] getindex(::Array{Float64, 5}, ::Int64, ::Int64, ::Int64, ::Function, ::Vararg{Function, N} where N)",
      "   @ Base .\\abstractarray.jl:1170",
      " [5] top-level scope",
      "   @ .\\In[54]:9",
      " [6] eval",
      "   @ .\\boot.jl:360 [inlined]",
      " [7] include_string(mapexpr::typeof(REPL.softscope), mod::Module, code::String, filename::String)",
      "   @ Base .\\loading.jl:1116"
     ]
    }
   ],
   "source": [
    "p_l = []\n",
    "li_subset = [3, 6, 8, 9]\n",
    "for lii=1:length(li_subset)-1\n",
    "    li = li_subset[lii]\n",
    "    label_i = labels[li]\n",
    "    for ljj=lii+1:length(li_subset)\n",
    "        lj = li_subset[ljj]\n",
    "        label_j = labels[lj]\n",
    "        heatmap(score_int[li, 2, 2, :, :] - score_int[lj, 2, 2, :, :])\n",
    "        p = plot!(\n",
    "            ylabel=\"ρ₂₂(t)\", xlabel=\"t (fs)\",\n",
    "            dpi=400, title=\"$(label_i) - $(label_j)\"\n",
    "        )\n",
    "        push!(p_l, p)\n",
    "    end\n",
    "end\n",
    "\n",
    "plot(\n",
    "    p_l[1], p_l[2], p_l[3], \n",
    "    p_l[4], p_l[5], p_l[6], \n",
    "    layout = (3, 2), margin = 5mm, size=(800,1000)\n",
    ")"
   ]
  },
  {
   "cell_type": "code",
   "execution_count": 55,
   "id": "975efa73",
   "metadata": {
    "ExecuteTime": {
     "end_time": "2022-04-19T12:40:04.906000+02:00",
     "start_time": "2022-04-19T10:39:40.576Z"
    }
   },
   "outputs": [
    {
     "ename": "LoadError",
     "evalue": "BoundsError: attempt to access 6×3×3×10×10 Array{Float64, 5} at index [8, 2, 3, 1:10, 1:10]",
     "output_type": "error",
     "traceback": [
      "BoundsError: attempt to access 6×3×3×10×10 Array{Float64, 5} at index [8, 2, 3, 1:10, 1:10]",
      "",
      "Stacktrace:",
      " [1] throw_boundserror(A::Array{Float64, 5}, I::Tuple{Int64, Int64, Int64, Base.Slice{Base.OneTo{Int64}}, Base.Slice{Base.OneTo{Int64}}})",
      "   @ Base .\\abstractarray.jl:651",
      " [2] checkbounds(::Array{Float64, 5}, ::Int64, ::Int64, ::Int64, ::Vararg{Any, N} where N)",
      "   @ Base .\\abstractarray.jl:616",
      " [3] _getindex(::IndexLinear, ::Array{Float64, 5}, ::Int64, ::Int64, ::Vararg{Union{Real, AbstractArray}, N} where N)",
      "   @ Base .\\multidimensional.jl:831",
      " [4] getindex(::Array{Float64, 5}, ::Int64, ::Int64, ::Int64, ::Function, ::Vararg{Function, N} where N)",
      "   @ Base .\\abstractarray.jl:1170",
      " [5] top-level scope",
      "   @ .\\In[55]:9",
      " [6] eval",
      "   @ .\\boot.jl:360 [inlined]",
      " [7] include_string(mapexpr::typeof(REPL.softscope), mod::Module, code::String, filename::String)",
      "   @ Base .\\loading.jl:1116"
     ]
    }
   ],
   "source": [
    "p_l = []\n",
    "li_subset = [3, 6, 8, 9]\n",
    "for lii=1:length(li_subset)-1\n",
    "    li = li_subset[lii]\n",
    "    label_i = labels[li]\n",
    "    for ljj=lii+1:length(li_subset)\n",
    "        lj = li_subset[ljj]\n",
    "        label_j = labels[lj]\n",
    "        heatmap(score_int[li, 2, 3, :, :] - score_int[lj, 2, 3, :, :])\n",
    "        p = plot!(\n",
    "            ylabel=\"ρ₂₂(t)\", xlabel=\"t (fs)\",\n",
    "            dpi=400, title=\"$(label_i) - $(label_j)\"\n",
    "        )\n",
    "        push!(p_l, p)\n",
    "    end\n",
    "end\n",
    "\n",
    "plot(\n",
    "    p_l[1], p_l[2], p_l[3], \n",
    "    p_l[4], p_l[5], p_l[6], \n",
    "    layout = (3, 2), margin = 5mm, size=(800,1000)\n",
    ")"
   ]
  },
  {
   "cell_type": "code",
   "execution_count": 56,
   "id": "49d2e1b1",
   "metadata": {
    "ExecuteTime": {
     "end_time": "2022-04-19T12:40:04.970000+02:00",
     "start_time": "2022-04-19T10:39:41.040Z"
    }
   },
   "outputs": [
    {
     "ename": "LoadError",
     "evalue": "BoundsError: attempt to access 6×3×3×10×10 Array{Float64, 5} at index [8, 2, 2, 1:10, 1:10]",
     "output_type": "error",
     "traceback": [
      "BoundsError: attempt to access 6×3×3×10×10 Array{Float64, 5} at index [8, 2, 2, 1:10, 1:10]",
      "",
      "Stacktrace:",
      " [1] throw_boundserror(A::Array{Float64, 5}, I::Tuple{Int64, Int64, Int64, Base.Slice{Base.OneTo{Int64}}, Base.Slice{Base.OneTo{Int64}}})",
      "   @ Base .\\abstractarray.jl:651",
      " [2] checkbounds(::Array{Float64, 5}, ::Int64, ::Int64, ::Int64, ::Vararg{Any, N} where N)",
      "   @ Base .\\abstractarray.jl:616",
      " [3] _getindex(::IndexLinear, ::Array{Float64, 5}, ::Int64, ::Int64, ::Vararg{Union{Real, AbstractArray}, N} where N)",
      "   @ Base .\\multidimensional.jl:831",
      " [4] getindex(::Array{Float64, 5}, ::Int64, ::Int64, ::Int64, ::Function, ::Vararg{Function, N} where N)",
      "   @ Base .\\abstractarray.jl:1170",
      " [5] top-level scope",
      "   @ .\\In[56]:3",
      " [6] eval",
      "   @ .\\boot.jl:360 [inlined]",
      " [7] include_string(mapexpr::typeof(REPL.softscope), mod::Module, code::String, filename::String)",
      "   @ Base .\\loading.jl:1116"
     ]
    }
   ],
   "source": [
    "p_l = []\n",
    "for li in [3, 6, 8, 9]\n",
    "    heatmap(log10.(score_sch[li, 2, 2, :, :]), clim=(-5, 2))\n",
    "    p = plot!(\n",
    "        ylabel=\"ρ₂₂(t)\", xlabel=\"t (fs)\",\n",
    "        dpi=400, title=labels[li]\n",
    "    )\n",
    "    push!(p_l, p)\n",
    "end\n",
    "\n",
    "plot(\n",
    "    p_l[1], p_l[2], p_l[3], p_l[4],\n",
    "    layout = (2, 2), margin = 5mm, size=(800,600)\n",
    ")"
   ]
  },
  {
   "cell_type": "code",
   "execution_count": 57,
   "id": "9a05f468",
   "metadata": {
    "ExecuteTime": {
     "end_time": "2022-04-19T12:40:05.027000+02:00",
     "start_time": "2022-04-19T10:39:41.102Z"
    }
   },
   "outputs": [
    {
     "ename": "LoadError",
     "evalue": "BoundsError: attempt to access 6×3×3×10×10 Array{Float64, 5} at index [8, 2, 3, 1:10, 1:10]",
     "output_type": "error",
     "traceback": [
      "BoundsError: attempt to access 6×3×3×10×10 Array{Float64, 5} at index [8, 2, 3, 1:10, 1:10]",
      "",
      "Stacktrace:",
      " [1] throw_boundserror(A::Array{Float64, 5}, I::Tuple{Int64, Int64, Int64, Base.Slice{Base.OneTo{Int64}}, Base.Slice{Base.OneTo{Int64}}})",
      "   @ Base .\\abstractarray.jl:651",
      " [2] checkbounds(::Array{Float64, 5}, ::Int64, ::Int64, ::Int64, ::Vararg{Any, N} where N)",
      "   @ Base .\\abstractarray.jl:616",
      " [3] _getindex(::IndexLinear, ::Array{Float64, 5}, ::Int64, ::Int64, ::Vararg{Union{Real, AbstractArray}, N} where N)",
      "   @ Base .\\multidimensional.jl:831",
      " [4] getindex(::Array{Float64, 5}, ::Int64, ::Int64, ::Int64, ::Function, ::Vararg{Function, N} where N)",
      "   @ Base .\\abstractarray.jl:1170",
      " [5] top-level scope",
      "   @ .\\In[57]:9",
      " [6] eval",
      "   @ .\\boot.jl:360 [inlined]",
      " [7] include_string(mapexpr::typeof(REPL.softscope), mod::Module, code::String, filename::String)",
      "   @ Base .\\loading.jl:1116"
     ]
    }
   ],
   "source": [
    "p_l = []\n",
    "li_subset = [3, 6, 8, 9]\n",
    "for lii=1:length(li_subset)-1\n",
    "    li = li_subset[lii]\n",
    "    label_i = labels[li]\n",
    "    for ljj=lii+1:length(li_subset)\n",
    "        lj = li_subset[ljj]\n",
    "        label_j = labels[lj]\n",
    "        heatmap(score_sch[li, 2, 3, :, :] - score_sch[lj, 2, 3, :, :])\n",
    "        p = plot!(\n",
    "            ylabel=\"ρ₂₂(t)\", xlabel=\"t (fs)\",\n",
    "            dpi=400, title=\"$(label_i) - $(label_j)\"\n",
    "        )\n",
    "        push!(p_l, p)\n",
    "    end\n",
    "end\n",
    "\n",
    "plot(\n",
    "    p_l[1], p_l[2], p_l[3], \n",
    "    p_l[4], p_l[5], p_l[6], \n",
    "    layout = (3, 2), margin = 5mm, size=(800,1000)\n",
    ")"
   ]
  },
  {
   "cell_type": "code",
   "execution_count": 58,
   "id": "b9b5b03e",
   "metadata": {
    "ExecuteTime": {
     "end_time": "2022-04-19T12:40:05.090000+02:00",
     "start_time": "2022-04-19T10:39:41.159Z"
    }
   },
   "outputs": [
    {
     "ename": "LoadError",
     "evalue": "BoundsError: attempt to access 6×3×3×10×10 Array{Float64, 5} at index [8, 2, 2, 1:10, 1:10]",
     "output_type": "error",
     "traceback": [
      "BoundsError: attempt to access 6×3×3×10×10 Array{Float64, 5} at index [8, 2, 2, 1:10, 1:10]",
      "",
      "Stacktrace:",
      " [1] throw_boundserror(A::Array{Float64, 5}, I::Tuple{Int64, Int64, Int64, Base.Slice{Base.OneTo{Int64}}, Base.Slice{Base.OneTo{Int64}}})",
      "   @ Base .\\abstractarray.jl:651",
      " [2] checkbounds(::Array{Float64, 5}, ::Int64, ::Int64, ::Int64, ::Vararg{Any, N} where N)",
      "   @ Base .\\abstractarray.jl:616",
      " [3] _getindex(::IndexLinear, ::Array{Float64, 5}, ::Int64, ::Int64, ::Vararg{Union{Real, AbstractArray}, N} where N)",
      "   @ Base .\\multidimensional.jl:831",
      " [4] getindex(::Array{Float64, 5}, ::Int64, ::Int64, ::Int64, ::Function, ::Vararg{Function, N} where N)",
      "   @ Base .\\abstractarray.jl:1170",
      " [5] top-level scope",
      "   @ .\\In[58]:9",
      " [6] eval",
      "   @ .\\boot.jl:360 [inlined]",
      " [7] include_string(mapexpr::typeof(REPL.softscope), mod::Module, code::String, filename::String)",
      "   @ Base .\\loading.jl:1116"
     ]
    }
   ],
   "source": [
    "p_l = []\n",
    "li_subset = [3, 6, 8, 9]\n",
    "for lii=1:length(li_subset)-1\n",
    "    li = li_subset[lii]\n",
    "    label_i = labels[li]\n",
    "    for ljj=lii+1:length(li_subset)\n",
    "        lj = li_subset[ljj]\n",
    "        label_j = labels[lj]\n",
    "        heatmap(score_exc[li, 2, 2, :, :] - score_exc[lj, 2, 2, :, :])\n",
    "        p = plot!(\n",
    "            ylabel=\"ρ₂₂(t)\", xlabel=\"t (fs)\",\n",
    "            dpi=400, title=\"$(label_i) - $(label_j)\"\n",
    "        )\n",
    "        push!(p_l, p)\n",
    "    end\n",
    "end\n",
    "\n",
    "plot(\n",
    "    p_l[1], p_l[2], p_l[3], \n",
    "    p_l[4], p_l[5], p_l[6], \n",
    "    layout = (3, 2), margin = 5mm, size=(800,1000)\n",
    ")"
   ]
  },
  {
   "cell_type": "code",
   "execution_count": 59,
   "id": "d65b8b05",
   "metadata": {
    "ExecuteTime": {
     "end_time": "2022-04-19T12:40:05.355000+02:00",
     "start_time": "2022-04-19T10:39:41.326Z"
    }
   },
   "outputs": [
    {
     "name": "stdout",
     "output_type": "stream",
     "text": [
      "6 6\n",
      "\n"
     ]
    }
   ],
   "source": [
    "sim_info, rho_int_l = simulation_dic[55]\n",
    "agg = get_agg(sim_info[\"hr1\"], sim_info[\"hr2\"])\n",
    "n = sim_info[\"n\"]\n",
    "hr1_i = n % 10 + 1\n",
    "hr2_i = n ÷ 10 + 1\n",
    "println(hr1_i, \" \", hr2_i)\n",
    "for i=1:length(rho_int_l)\n",
    "    rho_int_l[i] = operator_recast(rho_int_l[i])\n",
    "end\n",
    "rho_l = []\n",
    "for i=1:length(rho_int_l)\n",
    "    push!(rho_l, interaction_pic_to_schroedinger_pic(rho_int_l[i], tspan, agg))\n",
    "end\n",
    "\n",
    "rho_exc_l = []\n",
    "for i=1:length(rho_int_l)\n",
    "    push!(rho_exc_l, local_st_to_exciton_st(rho_l[i], agg))\n",
    "end\n",
    "println(\"\")"
   ]
  },
  {
   "cell_type": "code",
   "execution_count": 60,
   "id": "70fa9e9e",
   "metadata": {
    "ExecuteTime": {
     "end_time": "2022-04-19T12:40:05.383000+02:00",
     "start_time": "2022-04-19T10:39:41.623Z"
    }
   },
   "outputs": [
    {
     "data": {
      "text/plain": [
       "6-element Vector{String}:\n",
       " \"Evolution_sI_exact\"\n",
       " \"QME_sI_ansatz_test\"\n",
       " \"QME_sI_ansatz_const_int\"\n",
       " \"QME_sI_ansatz_upart1_int\"\n",
       " \"QME_sI_ansatz_upart2_int\"\n",
       " \"QME_sI_iterative_1\""
      ]
     },
     "execution_count": 60,
     "metadata": {},
     "output_type": "execute_result"
    }
   ],
   "source": [
    "sim_labels"
   ]
  },
  {
   "cell_type": "code",
   "execution_count": 61,
   "id": "35ba907c",
   "metadata": {
    "ExecuteTime": {
     "end_time": "2022-04-19T12:40:05.418000+02:00",
     "start_time": "2022-04-19T10:39:41.829Z"
    }
   },
   "outputs": [
    {
     "ename": "LoadError",
     "evalue": "BoundsError: attempt to access 6-element Vector{Any} at index [7]",
     "output_type": "error",
     "traceback": [
      "BoundsError: attempt to access 6-element Vector{Any} at index [7]",
      "",
      "Stacktrace:",
      " [1] getindex(A::Vector{Any}, i1::Int64)",
      "   @ Base .\\array.jl:805",
      " [2] top-level scope",
      "   @ In[61]:8",
      " [3] eval",
      "   @ .\\boot.jl:360 [inlined]",
      " [4] include_string(mapexpr::typeof(REPL.softscope), mod::Module, code::String, filename::String)",
      "   @ Base .\\loading.jl:1116"
     ]
    }
   ],
   "source": [
    "n, m = 2, 2\n",
    "plot(tspan_fs, real(rho_int_l[1][:, n, m]), label=\"exact\", linealpha = 0.5, linewidth = 3, linestyle = :solid)\n",
    "plot!(tspan_fs, real(rho_int_l[2][:, n, m]), label=\"QME.ansatz.test\", linealpha = 0.5, linewidth = 3, linestyle = :solid)\n",
    "plot!(tspan_fs, real(rho_int_l[3][:, n, m]), label=\"QME.ansatz.const_int\", linealpha = 0.5, linewidth = 3, linestyle = :dash)\n",
    "plot!(tspan_fs, real(rho_int_l[4][:, n, m]), label=\"QME.ansatz.const_sch\", linealpha = 0.5, linewidth = 3, linestyle = :dot)\n",
    "plot!(tspan_fs, real(rho_int_l[5][:, n, m]), label=\"QME.ansatz.upart1_sch\", linealpha = 0.5, linewidth = 3, linestyle = :dot)\n",
    "plot!(tspan_fs, real(rho_int_l[6][:, n, m]), label=\"QME.ansatz.upart1_int\", linealpha = 0.5, linewidth = 3, linestyle = :dash)\n",
    "plot!(tspan_fs, real(rho_int_l[7][:, n, m]), label=\"QME.ansatz.upart2_sch\", linealpha = 0.5, linewidth = 3, linestyle = :dot)\n",
    "plot!(tspan_fs, real(rho_int_l[8][:, n, m]), label=\"QME.ansatz.upart2_int\", linealpha = 0.5, linewidth = 3, linestyle = :dash)\n",
    "plot!(tspan_fs, real(rho_int_l[9][:, n, m]), label=\"QME.ansatz.iter1\", linealpha = 0.5, linewidth = 3, linestyle = :solid)\n",
    "\n",
    "p = plot!(ylabel=\"ρ₂₂(t)\", xlabel=\"t (fs)\", margin = 5mm, dpi=400, size=(700,500), ylim=(-1, 1))"
   ]
  },
  {
   "cell_type": "code",
   "execution_count": 62,
   "id": "eb1ef6aa",
   "metadata": {
    "ExecuteTime": {
     "end_time": "2022-04-19T12:40:05.445000+02:00",
     "start_time": "2022-04-19T10:39:42.030Z"
    }
   },
   "outputs": [
    {
     "ename": "LoadError",
     "evalue": "BoundsError: attempt to access 6-element Vector{Any} at index [9]",
     "output_type": "error",
     "traceback": [
      "BoundsError: attempt to access 6-element Vector{Any} at index [9]",
      "",
      "Stacktrace:",
      " [1] getindex(A::Vector{Any}, i1::Int64)",
      "   @ Base .\\array.jl:805",
      " [2] top-level scope",
      "   @ In[62]:6",
      " [3] eval",
      "   @ .\\boot.jl:360 [inlined]",
      " [4] include_string(mapexpr::typeof(REPL.softscope), mod::Module, code::String, filename::String)",
      "   @ Base .\\loading.jl:1116"
     ]
    }
   ],
   "source": [
    "n, m = 2, 2\n",
    "plot(tspan_fs, real(rho_int_l[1][:, n, m]), label=\"exact\", linealpha = 0.5, linewidth = 3, linestyle = :solid)\n",
    "plot!(tspan_fs, real(rho_int_l[2][:, n, m]), label=\"QME.ansatz.test\", linealpha = 0.5, linewidth = 3, linestyle = :solid)\n",
    "plot!(tspan_fs, real(rho_int_l[3][:, n, m]), label=\"QME.ansatz.const_int\", linealpha = 0.5, linewidth = 3, linestyle = :dash)\n",
    "plot!(tspan_fs, real(rho_int_l[4][:, n, m]), label=\"QME.ansatz.const_sch\", linealpha = 0.5, linewidth = 3, linestyle = :dot)\n",
    "plot!(tspan_fs, real(rho_int_l[9][:, n, m]), label=\"QME.ansatz.iter1\", linealpha = 0.5, linewidth = 3, linestyle = :solid)\n",
    "\n",
    "p = plot!(ylabel=\"ρ₂₂(t)\", xlabel=\"t (fs)\", margin = 5mm, dpi=400, size=(700,500), ylim=(0, 1))"
   ]
  },
  {
   "cell_type": "code",
   "execution_count": 63,
   "id": "5902035a",
   "metadata": {
    "ExecuteTime": {
     "end_time": "2022-04-19T12:40:05.472000+02:00",
     "start_time": "2022-04-19T10:39:42.215Z"
    }
   },
   "outputs": [
    {
     "ename": "LoadError",
     "evalue": "BoundsError: attempt to access 6-element Vector{Any} at index [9]",
     "output_type": "error",
     "traceback": [
      "BoundsError: attempt to access 6-element Vector{Any} at index [9]",
      "",
      "Stacktrace:",
      " [1] getindex(A::Vector{Any}, i1::Int64)",
      "   @ Base .\\array.jl:805",
      " [2] top-level scope",
      "   @ In[63]:5",
      " [3] eval",
      "   @ .\\boot.jl:360 [inlined]",
      " [4] include_string(mapexpr::typeof(REPL.softscope), mod::Module, code::String, filename::String)",
      "   @ Base .\\loading.jl:1116"
     ]
    }
   ],
   "source": [
    "n, m = 2, 2\n",
    "plot(tspan_fs, real(rho_int_l[1][:, n, m]), label=\"exact\", linealpha = 0.5, linewidth = 3, linestyle = :solid)\n",
    "plot!(tspan_fs, real(rho_int_l[2][:, n, m]), label=\"QME.ansatz.test\", linealpha = 0.5, linewidth = 3, linestyle = :solid)\n",
    "plot!(tspan_fs, real(rho_int_l[3][:, n, m]), label=\"QME.ansatz.const_int\", linealpha = 0.5, linewidth = 3, linestyle = :dash)\n",
    "plot!(tspan_fs, real(rho_int_l[9][:, n, m]), label=\"QME.ansatz.iter1\", linealpha = 0.5, linewidth = 3, linestyle = :solid)\n",
    "\n",
    "p = plot!(ylabel=\"ρ₂₂(t)\", xlabel=\"t (fs)\", margin = 5mm, dpi=400, size=(700,500), ylim=(0, 1))"
   ]
  },
  {
   "cell_type": "code",
   "execution_count": 64,
   "id": "388bc5dc",
   "metadata": {
    "ExecuteTime": {
     "end_time": "2022-04-19T12:40:05.503000+02:00",
     "start_time": "2022-04-19T10:39:42.392Z"
    }
   },
   "outputs": [
    {
     "ename": "LoadError",
     "evalue": "BoundsError: attempt to access 6-element Vector{Any} at index [9]",
     "output_type": "error",
     "traceback": [
      "BoundsError: attempt to access 6-element Vector{Any} at index [9]",
      "",
      "Stacktrace:",
      " [1] getindex(A::Vector{Any}, i1::Int64)",
      "   @ Base .\\array.jl:805",
      " [2] top-level scope",
      "   @ In[64]:4",
      " [3] eval",
      "   @ .\\boot.jl:360 [inlined]",
      " [4] include_string(mapexpr::typeof(REPL.softscope), mod::Module, code::String, filename::String)",
      "   @ Base .\\loading.jl:1116"
     ]
    }
   ],
   "source": [
    "n, m = 2, 2\n",
    "plot(tspan_fs, real(rho_l[1][:, n, m]), label=\"exact\", linealpha = 0.5, linewidth = 3, linestyle = :solid)\n",
    "plot!(tspan_fs, real(rho_l[2][:, n, m]), label=\"QME.ansatz.test\", linealpha = 0.5, linewidth = 3, linestyle = :solid)\n",
    "plot!(tspan_fs, real(rho_l[9][:, n, m]), label=\"QME.ansatz.iter1\", linealpha = 0.5, linewidth = 3, linestyle = :solid)\n",
    "\n",
    "p = plot!(ylabel=\"ρ₂₂(t)\", xlabel=\"t (fs)\", margin = 5mm, dpi=400, size=(700,500))"
   ]
  },
  {
   "cell_type": "code",
   "execution_count": null,
   "id": "1798fec0",
   "metadata": {},
   "outputs": [],
   "source": []
  },
  {
   "cell_type": "code",
   "execution_count": null,
   "id": "58a225f2",
   "metadata": {},
   "outputs": [],
   "source": []
  },
  {
   "cell_type": "code",
   "execution_count": null,
   "id": "67804de2",
   "metadata": {},
   "outputs": [],
   "source": []
  },
  {
   "cell_type": "code",
   "execution_count": null,
   "id": "29c190d3",
   "metadata": {},
   "outputs": [],
   "source": []
  },
  {
   "cell_type": "code",
   "execution_count": null,
   "id": "7c0d8076",
   "metadata": {},
   "outputs": [],
   "source": []
  }
 ],
 "metadata": {
  "kernelspec": {
   "display_name": "Julia 1.6.3",
   "language": "julia",
   "name": "julia-1.6"
  },
  "language_info": {
   "file_extension": ".jl",
   "mimetype": "application/julia",
   "name": "julia",
   "version": "1.6.3"
  },
  "toc": {
   "base_numbering": 1,
   "nav_menu": {},
   "number_sections": true,
   "sideBar": true,
   "skip_h1_title": false,
   "title_cell": "Table of Contents",
   "title_sidebar": "Contents",
   "toc_cell": false,
   "toc_position": {},
   "toc_section_display": true,
   "toc_window_display": false
  },
  "varInspector": {
   "cols": {
    "lenName": 16,
    "lenType": 16,
    "lenVar": 40
   },
   "kernels_config": {
    "python": {
     "delete_cmd_postfix": "",
     "delete_cmd_prefix": "del ",
     "library": "var_list.py",
     "varRefreshCmd": "print(var_dic_list())"
    },
    "r": {
     "delete_cmd_postfix": ") ",
     "delete_cmd_prefix": "rm(",
     "library": "var_list.r",
     "varRefreshCmd": "cat(var_dic_list()) "
    }
   },
   "types_to_exclude": [
    "module",
    "function",
    "builtin_function_or_method",
    "instance",
    "_Feature"
   ],
   "window_display": false
  }
 },
 "nbformat": 4,
 "nbformat_minor": 5
}
