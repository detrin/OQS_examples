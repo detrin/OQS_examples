{
 "cells": [
  {
   "cell_type": "code",
   "execution_count": 1,
   "id": "c6869dd6",
   "metadata": {
    "ExecuteTime": {
     "end_time": "2022-04-22T17:17:33.784000+02:00",
     "start_time": "2022-04-22T15:17:22.382Z"
    }
   },
   "outputs": [
    {
     "name": "stderr",
     "output_type": "stream",
     "text": [
      "\u001b[32m\u001b[1m  Activating\u001b[22m\u001b[39m environment at `C:\\Users\\daniel.herman\\Documents\\Mgr\\OpenQuantumSystems\\OpenQuantumSystems.jl\\Project.toml`\n"
     ]
    }
   ],
   "source": [
    "using Revise\n",
    "using Pkg; Pkg.activate(raw\"C:\\Users\\daniel.herman\\Documents\\Mgr\\OpenQuantumSystems\\OpenQuantumSystems.jl\")\n",
    "using OpenQuantumSystems\n",
    "using LinearAlgebra\n",
    "using SparseArrays\n",
    "using Interpolations\n",
    "using HDF5\n",
    "using Measures\n",
    "\n",
    "import Base.log10"
   ]
  },
  {
   "cell_type": "code",
   "execution_count": 2,
   "id": "73bfb174",
   "metadata": {
    "ExecuteTime": {
     "end_time": "2022-04-22T17:17:47.244000+02:00",
     "start_time": "2022-04-22T15:17:22.386Z"
    }
   },
   "outputs": [],
   "source": [
    "using BenchmarkTools\n",
    "using Plots\n",
    "using ProgressBars\n",
    "using OpenQuantumSystems\n",
    "# using OpenQuantumSystemsPrivate\n",
    "using LinearAlgebra\n",
    "using Random\n",
    "using QuadGK\n",
    "using ProgressMeter\n",
    "using Expokit\n",
    "# using DifferentialEquations\n",
    "\n",
    "Random.seed!(0)\n",
    "\n",
    "import OrdinaryDiffEq, DiffEqCallbacks, DelayDiffEq\n",
    "import SparseArrays: sparse\n",
    "import QuantumOpticsBase"
   ]
  },
  {
   "cell_type": "code",
   "execution_count": 3,
   "id": "b61ad3e1",
   "metadata": {
    "ExecuteTime": {
     "end_time": "2022-04-22T17:17:51.790000+02:00",
     "start_time": "2022-04-22T15:17:22.388Z"
    }
   },
   "outputs": [
    {
     "data": {
      "text/plain": [
       "6-element Vector{String}:\n",
       " \"Evolution_sI_exact\"\n",
       " \"QME_sI_ansatz_test\"\n",
       " \"QME_sI_ansatz_const_int\"\n",
       " \"QME_sI_ansatz_upart1_int\"\n",
       " \"QME_sI_ansatz_upart2_int\"\n",
       " \"QME_sI_iterative_1\""
      ]
     },
     "execution_count": 3,
     "metadata": {},
     "output_type": "execute_result"
    }
   ],
   "source": [
    "sim_labels = [\n",
    "    \"Evolution_sI_exact\",\n",
    "    \"QME_sI_ansatz_test\",\n",
    "    \"QME_sI_ansatz_const_int\",\n",
    "    \"QME_sI_ansatz_upart1_int\",\n",
    "    \"QME_sI_ansatz_upart2_int\",\n",
    "    \"QME_sI_iterative_1\"\n",
    "]"
   ]
  },
  {
   "cell_type": "code",
   "execution_count": 4,
   "id": "f6f8b031",
   "metadata": {
    "ExecuteTime": {
     "end_time": "2022-04-22T17:17:53.134000+02:00",
     "start_time": "2022-04-22T15:17:22.391Z"
    }
   },
   "outputs": [
    {
     "data": {
      "text/plain": [
       "read_data_pt (generic function with 1 method)"
      ]
     },
     "execution_count": 4,
     "metadata": {},
     "output_type": "execute_result"
    }
   ],
   "source": [
    "function read_data_pt(filename)\n",
    "    simulation_info, rho_int_l = h5open(filename, \"r\") do file\n",
    "        simulation_info = Dict{String,Any}(\"n\" => read(file, \"n\"))\n",
    "        for key in [\"DeltaE\", \"J\", \"tspan\", \"tspan_fs\"]\n",
    "            simulation_info[key] = read(file, key)\n",
    "        end\n",
    "        rho_int_l = []\n",
    "        for li=1:length(sim_labels)\n",
    "            label = sim_labels[li]\n",
    "            push!(rho_int_l, read(file, label))\n",
    "        end\n",
    "        return simulation_info, rho_int_l\n",
    "    end\n",
    "    return simulation_info, rho_int_l\n",
    "end"
   ]
  },
  {
   "cell_type": "code",
   "execution_count": 5,
   "id": "8acc4940",
   "metadata": {
    "ExecuteTime": {
     "end_time": "2022-04-22T17:17:53.287000+02:00",
     "start_time": "2022-04-22T15:17:22.395Z"
    }
   },
   "outputs": [
    {
     "data": {
      "text/plain": [
       "get_agg (generic function with 1 method)"
      ]
     },
     "execution_count": 5,
     "metadata": {},
     "output_type": "execute_result"
    }
   ],
   "source": [
    "function get_agg(DeltaE, J)\n",
    "    mols = [\n",
    "            Molecule([Mode(omega=200., hr_factor=0.5)], 3, [0., 12500.0+DeltaE]),\n",
    "            Molecule([Mode(omega=200., hr_factor=0.5)], 3, [0., 12500.])\n",
    "        ]\n",
    "\n",
    "    aggCore = AggregateCore(mols)\n",
    "    for mol_i in 2:aggCore.molCount\n",
    "        aggCore.coupling[mol_i, mol_i+1] = J\n",
    "        aggCore.coupling[mol_i+1, mol_i] = J\n",
    "    end\n",
    "    agg = setupAggregate(aggCore)\n",
    "end"
   ]
  },
  {
   "cell_type": "code",
   "execution_count": 6,
   "id": "f6253411",
   "metadata": {
    "ExecuteTime": {
     "end_time": "2022-04-22T17:17:56.978000+02:00",
     "start_time": "2022-04-22T15:17:22.397Z"
    }
   },
   "outputs": [
    {
     "name": "stdout",
     "output_type": "stream",
     "text": [
      "\n"
     ]
    }
   ],
   "source": [
    "computed_data = []\n",
    "for filename in readdir(\"data\"; join=true)\n",
    "    simulation_info, rho_int_l = read_data_pt(filename)\n",
    "    push!(computed_data, [simulation_info, rho_int_l])\n",
    "end\n",
    "\n",
    "simulation_info, rho_int_l = computed_data[1]\n",
    "tspan = simulation_info[\"tspan\"]\n",
    "tspan_fs = simulation_info[\"tspan_fs\"]\n",
    "println(\"\")"
   ]
  },
  {
   "cell_type": "code",
   "execution_count": null,
   "id": "0bc72dcd",
   "metadata": {
    "ExecuteTime": {
     "start_time": "2022-04-22T15:17:22.400Z"
    }
   },
   "outputs": [],
   "source": [
    "score_int = zeros(Float64, length(sim_labels), 3, 3, 11, 11) # simulations, eli, elj, hr1, hr2\n",
    "score_sch = zeros(Float64, length(sim_labels), 3, 3, 11, 11)\n",
    "score_exc = zeros(Float64, length(sim_labels), 3, 3, 11, 11)\n",
    "\n",
    "computed_n = Dict()\n",
    "simulation_dic = Dict()\n",
    "for (sim_info, rho_int_l) in computed_data\n",
    "    agg = get_agg(sim_info[\"DeltaE\"], sim_info[\"J\"])\n",
    "    n = sim_info[\"n\"]\n",
    "    k = n % 11 + 1\n",
    "    l = n ÷ 11 + 1\n",
    "    computed_n[n] = true\n",
    "    simulation_dic[n] = [sim_info, rho_int_l]\n",
    "    rho_l = []\n",
    "    for i=1:length(sim_labels)\n",
    "        push!(rho_l, interaction_pic_to_schroedinger_pic(rho_int_l[i], tspan, agg))\n",
    "    end\n",
    "\n",
    "    rho_exc_l = []\n",
    "    for i=1:length(sim_labels)\n",
    "        push!(rho_exc_l, local_st_to_exciton_st(rho_l[i], agg))\n",
    "    end\n",
    "\n",
    "    for li = 2:length(sim_labels)\n",
    "        label = sim_labels[li]\n",
    "        score_int[li, :, :, l, k] = compare_rho(rho_int_l[1], rho_int_l[li])\n",
    "        score_sch[li, :, :, l, k] = compare_rho(rho_l[1], rho_l[li])\n",
    "        score_exc[li, :, :, l, k] = compare_rho(rho_exc_l[1], rho_exc_l[li])\n",
    "    end\n",
    "end\n",
    "\n",
    "for n=0:120\n",
    "    if !haskey(computed_n, n)\n",
    "        println(n)\n",
    "    end\n",
    "end"
   ]
  },
  {
   "cell_type": "code",
   "execution_count": null,
   "id": "450124ed",
   "metadata": {
    "ExecuteTime": {
     "start_time": "2022-04-22T15:17:22.404Z"
    }
   },
   "outputs": [],
   "source": [
    "labels = Dict(\n",
    "    1 => \"exact\", 2 => \"QME.test\", \n",
    "    3 => \"QME.const_int\",  \n",
    "    4 => \"QME.upart1_int\",\n",
    "    5 => \"QME.upart2_int\", \n",
    "    6 => \"QME.iter1\"\n",
    ")\n",
    "\n",
    "DeltaE_labels = map((n) -> string(round(150. + 10. * n; digits=2)), 0:10)\n",
    "J_labels = map((n) -> string(round(20. * n; digits=2)), 0:10)"
   ]
  },
  {
   "cell_type": "markdown",
   "id": "de082249",
   "metadata": {},
   "source": [
    "# Score int"
   ]
  },
  {
   "cell_type": "markdown",
   "id": "9fb9a28c",
   "metadata": {},
   "source": [
    "## Population"
   ]
  },
  {
   "cell_type": "code",
   "execution_count": null,
   "id": "6f58a3b8",
   "metadata": {
    "ExecuteTime": {
     "start_time": "2022-04-22T15:17:22.547Z"
    }
   },
   "outputs": [],
   "source": [
    "p_l = []\n",
    "for li=3:6\n",
    "    heatmap(DeltaE_labels, J_labels, log10.(score_int[li, 2, 2, :, :]), clim=(-2, 0))\n",
    "    p = plot!(\n",
    "        xlabel=\"ΔE (1/cm)\", ylabel=\"J (1/cm)\",\n",
    "        dpi=400, title=labels[li]\n",
    "    )\n",
    "    push!(p_l, p)\n",
    "end\n",
    "\n",
    "plot(\n",
    "    p_l[1], p_l[2], \n",
    "    p_l[3], p_l[4], \n",
    "    layout = 4, margin = 5mm, size=(900,600),\n",
    "    xtickfontsize=6, ytickfontsize=6, titlefontsize=12\n",
    ")"
   ]
  },
  {
   "cell_type": "markdown",
   "id": "86494136",
   "metadata": {
    "ExecuteTime": {
     "end_time": "2022-04-19T13:09:25.108000+02:00",
     "start_time": "2022-04-19T11:09:25.081Z"
    }
   },
   "source": [
    "## Coherence"
   ]
  },
  {
   "cell_type": "code",
   "execution_count": null,
   "id": "dea3b0f1",
   "metadata": {
    "ExecuteTime": {
     "start_time": "2022-04-22T15:17:22.620Z"
    }
   },
   "outputs": [],
   "source": [
    "p_l = []\n",
    "for li=3:6\n",
    "    heatmap(DeltaE_labels, J_labels, log10.(score_int[li, 2, 3, :, :]), clim=(-2, 0))\n",
    "    p = plot!(\n",
    "        xlabel=\"ΔE (1/cm)\", ylabel=\"J (1/cm)\",\n",
    "        dpi=400, title=labels[li]\n",
    "    )\n",
    "    push!(p_l, p)\n",
    "end\n",
    "\n",
    "plot(\n",
    "    p_l[1], p_l[2], \n",
    "    p_l[3], p_l[4], \n",
    "    layout = 4, margin = 5mm, size=(900,600),\n",
    "    xtickfontsize=6, ytickfontsize=6, titlefontsize=12\n",
    ")"
   ]
  },
  {
   "cell_type": "markdown",
   "id": "f71f06fe",
   "metadata": {},
   "source": [
    "# Score sch"
   ]
  },
  {
   "cell_type": "markdown",
   "id": "a6c95470",
   "metadata": {},
   "source": [
    "## Population"
   ]
  },
  {
   "cell_type": "code",
   "execution_count": null,
   "id": "7a4a45ee",
   "metadata": {
    "ExecuteTime": {
     "start_time": "2022-04-22T15:17:22.780Z"
    }
   },
   "outputs": [],
   "source": [
    "p_l = []\n",
    "for li=3:6\n",
    "    heatmap(DeltaE_labels, J_labels, log10.(score_sch[li, 2, 2, :, :]), clim=(-2, 0))\n",
    "    p = plot!(\n",
    "        xlabel=\"ΔE (1/cm)\", ylabel=\"J (1/cm)\",\n",
    "        dpi=400, title=labels[li]\n",
    "    )\n",
    "    push!(p_l, p)\n",
    "end\n",
    "\n",
    "plot(\n",
    "    p_l[1], p_l[2], \n",
    "    p_l[3], p_l[4], \n",
    "    layout = 4, margin = 5mm, size=(900,600),\n",
    "    xtickfontsize=6, ytickfontsize=6, titlefontsize=12\n",
    ")"
   ]
  },
  {
   "cell_type": "markdown",
   "id": "158deb6b",
   "metadata": {},
   "source": [
    "## Coherence"
   ]
  },
  {
   "cell_type": "code",
   "execution_count": null,
   "id": "21880738",
   "metadata": {
    "ExecuteTime": {
     "start_time": "2022-04-22T15:17:22.852Z"
    }
   },
   "outputs": [],
   "source": [
    "p_l = []\n",
    "for li=3:6\n",
    "    heatmap(DeltaE_labels, J_labels, log10.(score_sch[li, 2, 3, :, :]), clim=(-2, 0))\n",
    "    p = plot!(\n",
    "        xlabel=\"ΔE (1/cm)\", ylabel=\"J (1/cm)\",\n",
    "        dpi=400, title=labels[li]\n",
    "    )\n",
    "    push!(p_l, p)\n",
    "end\n",
    "\n",
    "plot(\n",
    "    p_l[1], p_l[2], \n",
    "    p_l[3], p_l[4], \n",
    "    layout = 4, margin = 5mm, size=(900,600),\n",
    "    xtickfontsize=6, ytickfontsize=6, titlefontsize=12\n",
    ")"
   ]
  },
  {
   "cell_type": "markdown",
   "id": "1248957c",
   "metadata": {},
   "source": [
    "# Score exc"
   ]
  },
  {
   "cell_type": "markdown",
   "id": "9c213c8e",
   "metadata": {},
   "source": [
    "## Population"
   ]
  },
  {
   "cell_type": "code",
   "execution_count": null,
   "id": "f77c8b9d",
   "metadata": {
    "ExecuteTime": {
     "start_time": "2022-04-22T15:17:23.002Z"
    }
   },
   "outputs": [],
   "source": [
    "p_l = []\n",
    "for li=3:6\n",
    "    heatmap(DeltaE_labels, J_labels, log10.(score_exc[li, 2, 2, :, :]), clim=(-2, 0))\n",
    "    p = plot!(\n",
    "        xlabel=\"ΔE (1/cm)\", ylabel=\"J (1/cm)\",\n",
    "        dpi=400, title=labels[li]\n",
    "    )\n",
    "    push!(p_l, p)\n",
    "end\n",
    "\n",
    "plot(\n",
    "    p_l[1], p_l[2], \n",
    "    p_l[3], p_l[4], \n",
    "    layout = 4, margin = 5mm, size=(900,600),\n",
    "    xtickfontsize=6, ytickfontsize=6, titlefontsize=12\n",
    ")"
   ]
  },
  {
   "cell_type": "markdown",
   "id": "78874e22",
   "metadata": {},
   "source": [
    "## Coherence"
   ]
  },
  {
   "cell_type": "code",
   "execution_count": null,
   "id": "2a82bdb9",
   "metadata": {
    "ExecuteTime": {
     "start_time": "2022-04-22T15:17:23.099Z"
    }
   },
   "outputs": [],
   "source": [
    "p_l = []\n",
    "for li=3:6\n",
    "    heatmap(DeltaE_labels, J_labels, log10.(score_exc[li, 2, 3, :, :]), clim=(-2, 0))\n",
    "    p = plot!(\n",
    "        xlabel=\"ΔE (1/cm)\", ylabel=\"J (1/cm)\",\n",
    "        dpi=400, title=labels[li]\n",
    "    )\n",
    "    push!(p_l, p)\n",
    "end\n",
    "\n",
    "plot(\n",
    "    p_l[1], p_l[2], \n",
    "    p_l[3], p_l[4], \n",
    "    layout = 4, margin = 5mm, size=(900,600),\n",
    "    xtickfontsize=6, ytickfontsize=6, titlefontsize=12\n",
    ")"
   ]
  },
  {
   "cell_type": "markdown",
   "id": "79eaef7b",
   "metadata": {},
   "source": [
    "# Score diff int"
   ]
  },
  {
   "cell_type": "markdown",
   "id": "7cdff6b3",
   "metadata": {},
   "source": [
    "## Population"
   ]
  },
  {
   "cell_type": "code",
   "execution_count": null,
   "id": "59908379",
   "metadata": {
    "ExecuteTime": {
     "start_time": "2022-04-22T15:17:23.264Z"
    }
   },
   "outputs": [],
   "source": [
    "p_l = []\n",
    "li_subset = [3, 4, 5, 6]\n",
    "for lii=1:length(li_subset)-1\n",
    "    li = li_subset[lii]\n",
    "    label_i = labels[li]\n",
    "    for ljj=lii+1:length(li_subset)\n",
    "        lj = li_subset[ljj]\n",
    "        label_j = labels[lj]\n",
    "        heatmap(DeltaE_labels, J_labels, score_int[li, 2, 2, :, :] - score_int[lj, 2, 2, :, :])\n",
    "        p = plot!(\n",
    "            xlabel=\"ΔE (1/cm)\", ylabel=\"J (1/cm)\",\n",
    "            dpi=400, title=\"$(label_i) - $(label_j)\"\n",
    "        )\n",
    "        push!(p_l, p)\n",
    "    end\n",
    "end\n",
    "\n",
    "plot(\n",
    "    p_l[1], p_l[2], p_l[3], \n",
    "    p_l[4], p_l[5], p_l[6], \n",
    "    layout = (3, 2), margin = 5mm, size=(900,1000),\n",
    "    xtickfontsize=6, ytickfontsize=6, titlefontsize=12\n",
    ")"
   ]
  },
  {
   "cell_type": "markdown",
   "id": "7cf8308c",
   "metadata": {},
   "source": [
    "## Coherence"
   ]
  },
  {
   "cell_type": "code",
   "execution_count": null,
   "id": "2bed79ce",
   "metadata": {
    "ExecuteTime": {
     "start_time": "2022-04-22T15:17:23.336Z"
    }
   },
   "outputs": [],
   "source": [
    "p_l = []\n",
    "li_subset = [3, 4, 5, 6]\n",
    "for lii=1:length(li_subset)-1\n",
    "    li = li_subset[lii]\n",
    "    label_i = labels[li]\n",
    "    for ljj=lii+1:length(li_subset)\n",
    "        lj = li_subset[ljj]\n",
    "        label_j = labels[lj]\n",
    "        heatmap(DeltaE_labels, J_labels, score_int[li, 2, 3, :, :] - score_int[lj, 2, 3, :, :], clim=(-2, 0))\n",
    "        p = plot!(\n",
    "            xlabel=\"ΔE (1/cm)\", ylabel=\"J (1/cm)\",\n",
    "            dpi=400, title=\"$(label_i) - $(label_j)\"\n",
    "        )\n",
    "        push!(p_l, p)\n",
    "    end\n",
    "end\n",
    "\n",
    "plot(\n",
    "    p_l[1], p_l[2], p_l[3], \n",
    "    p_l[4], p_l[5], p_l[6], \n",
    "    layout = (3, 2), margin = 5mm, size=(900,1000),\n",
    "    xtickfontsize=6, ytickfontsize=6, titlefontsize=12\n",
    ")"
   ]
  },
  {
   "cell_type": "markdown",
   "id": "8419afb5",
   "metadata": {},
   "source": [
    "# Score diff sch"
   ]
  },
  {
   "cell_type": "markdown",
   "id": "da65f0bb",
   "metadata": {},
   "source": [
    "## Population"
   ]
  },
  {
   "cell_type": "code",
   "execution_count": null,
   "id": "f1b93bb8",
   "metadata": {
    "ExecuteTime": {
     "start_time": "2022-04-22T15:17:23.472Z"
    }
   },
   "outputs": [],
   "source": [
    "p_l = []\n",
    "li_subset = [3, 4, 5, 6]\n",
    "for lii=1:length(li_subset)-1\n",
    "    li = li_subset[lii]\n",
    "    label_i = labels[li]\n",
    "    for ljj=lii+1:length(li_subset)\n",
    "        lj = li_subset[ljj]\n",
    "        label_j = labels[lj]\n",
    "        heatmap(DeltaE_labels, J_labels, score_sch[li, 2, 2, :, :] - score_int[lj, 2, 2, :, :])\n",
    "        p = plot!(\n",
    "            xlabel=\"ΔE (1/cm)\", ylabel=\"J (1/cm)\",\n",
    "            dpi=400, title=\"$(label_i) - $(label_j)\"\n",
    "        )\n",
    "        push!(p_l, p)\n",
    "    end\n",
    "end\n",
    "\n",
    "plot(\n",
    "    p_l[1], p_l[2], p_l[3], \n",
    "    p_l[4], p_l[5], p_l[6], \n",
    "    layout = (3, 2), margin = 5mm, size=(900,1000),\n",
    "    xtickfontsize=6, ytickfontsize=6, titlefontsize=12\n",
    ")"
   ]
  },
  {
   "cell_type": "markdown",
   "id": "8e469538",
   "metadata": {},
   "source": [
    "## Coherence"
   ]
  },
  {
   "cell_type": "code",
   "execution_count": null,
   "id": "ee9b2c90",
   "metadata": {
    "ExecuteTime": {
     "start_time": "2022-04-22T15:17:23.546Z"
    }
   },
   "outputs": [],
   "source": [
    "p_l = []\n",
    "li_subset = [3, 4, 5, 6]\n",
    "for lii=1:length(li_subset)-1\n",
    "    li = li_subset[lii]\n",
    "    label_i = labels[li]\n",
    "    for ljj=lii+1:length(li_subset)\n",
    "        lj = li_subset[ljj]\n",
    "        label_j = labels[lj]\n",
    "        heatmap(DeltaE_labels, J_labels, score_sch[li, 2, 3, :, :] - score_int[lj, 2, 3, :, :])\n",
    "        p = plot!(\n",
    "            xlabel=\"ΔE (1/cm)\", ylabel=\"J (1/cm)\",\n",
    "            dpi=400, title=\"$(label_i) - $(label_j)\"\n",
    "        )\n",
    "        push!(p_l, p)\n",
    "    end\n",
    "end\n",
    "\n",
    "plot(\n",
    "    p_l[1], p_l[2], p_l[3], \n",
    "    p_l[4], p_l[5], p_l[6], \n",
    "    layout = (3, 2), margin = 5mm, size=(900,1000),\n",
    "    xtickfontsize=6, ytickfontsize=6, titlefontsize=12\n",
    ")"
   ]
  },
  {
   "cell_type": "markdown",
   "id": "3deed863",
   "metadata": {},
   "source": [
    "# Score diff exc"
   ]
  },
  {
   "cell_type": "markdown",
   "id": "6026bb84",
   "metadata": {},
   "source": [
    "## Population"
   ]
  },
  {
   "cell_type": "code",
   "execution_count": null,
   "id": "340bdb5d",
   "metadata": {
    "ExecuteTime": {
     "start_time": "2022-04-22T15:17:23.696Z"
    }
   },
   "outputs": [],
   "source": [
    "p_l = []\n",
    "li_subset = [3, 4, 5, 6]\n",
    "for lii=1:length(li_subset)-1\n",
    "    li = li_subset[lii]\n",
    "    label_i = labels[li]\n",
    "    for ljj=lii+1:length(li_subset)\n",
    "        lj = li_subset[ljj]\n",
    "        label_j = labels[lj]\n",
    "        heatmap(DeltaE_labels, J_labels, score_exc[li, 2, 2, :, :] - score_exc[lj, 2, 2, :, :])\n",
    "        p = plot!(\n",
    "            xlabel=\"ΔE (1/cm)\", ylabel=\"J (1/cm)\",\n",
    "            dpi=400, title=\"$(label_i) - $(label_j)\"\n",
    "        )\n",
    "        push!(p_l, p)\n",
    "    end\n",
    "end\n",
    "\n",
    "plot(\n",
    "    p_l[1], p_l[2], p_l[3], \n",
    "    p_l[4], p_l[5], p_l[6], \n",
    "    layout = (3, 2), margin = 5mm, size=(900,1000),\n",
    "    xtickfontsize=6, ytickfontsize=6, titlefontsize=12\n",
    ")"
   ]
  },
  {
   "cell_type": "markdown",
   "id": "64d7deb8",
   "metadata": {},
   "source": [
    "## Coherence"
   ]
  },
  {
   "cell_type": "code",
   "execution_count": null,
   "id": "fcbb1cb2",
   "metadata": {
    "ExecuteTime": {
     "start_time": "2022-04-22T15:17:23.776Z"
    }
   },
   "outputs": [],
   "source": [
    "p_l = []\n",
    "li_subset = [3, 4, 5, 6]\n",
    "for lii=1:length(li_subset)-1\n",
    "    li = li_subset[lii]\n",
    "    label_i = labels[li]\n",
    "    for ljj=lii+1:length(li_subset)\n",
    "        lj = li_subset[ljj]\n",
    "        label_j = labels[lj]\n",
    "        heatmap(DeltaE_labels, J_labels, score_exc[li, 2, 3, :, :] - score_exc[lj, 2, 3, :, :])\n",
    "        p = plot!(\n",
    "            xlabel=\"ΔE (1/cm)\", ylabel=\"J (1/cm)\",\n",
    "            dpi=400, title=\"$(label_i) - $(label_j)\"\n",
    "        )\n",
    "        push!(p_l, p)\n",
    "    end\n",
    "end\n",
    "\n",
    "plot(\n",
    "    p_l[1], p_l[2], p_l[3], \n",
    "    p_l[4], p_l[5], p_l[6], \n",
    "    layout = (3, 2), margin = 5mm, size=(900,1000),\n",
    "    xtickfontsize=6, ytickfontsize=6, titlefontsize=12\n",
    ")"
   ]
  },
  {
   "cell_type": "code",
   "execution_count": null,
   "id": "d65b8b05",
   "metadata": {
    "ExecuteTime": {
     "start_time": "2022-04-22T15:17:23.782Z"
    }
   },
   "outputs": [],
   "source": [
    "sim_info, rho_int_l = simulation_dic[22]\n",
    "agg = get_agg(sim_info[\"DeltaE\"], sim_info[\"J\"])\n",
    "n = sim_info[\"n\"]\n",
    "\n",
    "k = sim_info[\"n\"] % 11\n",
    "l = sim_info[\"n\"] ÷ 11\n",
    "println(k, \" \", l)\n",
    "DeltaE = 150. + 10. * k\n",
    "J = 20. * l\n",
    "println(DeltaE, \" \", J)\n",
    "for i=1:length(rho_int_l)\n",
    "    rho_int_l[i] = operator_recast(rho_int_l[i])\n",
    "end\n",
    "rho_l = []\n",
    "for i=1:length(rho_int_l)\n",
    "    push!(rho_l, interaction_pic_to_schroedinger_pic(rho_int_l[i], tspan, agg))\n",
    "end\n",
    "\n",
    "rho_exc_l = []\n",
    "for i=1:length(rho_int_l)\n",
    "    push!(rho_exc_l, local_st_to_exciton_st(rho_l[i], agg))\n",
    "end\n",
    "sim_info"
   ]
  },
  {
   "cell_type": "code",
   "execution_count": null,
   "id": "70fa9e9e",
   "metadata": {
    "ExecuteTime": {
     "start_time": "2022-04-22T15:17:23.786Z"
    }
   },
   "outputs": [],
   "source": [
    "sim_labels"
   ]
  },
  {
   "cell_type": "code",
   "execution_count": null,
   "id": "83af0533",
   "metadata": {
    "ExecuteTime": {
     "start_time": "2022-04-22T15:17:23.791Z"
    }
   },
   "outputs": [],
   "source": [
    "n, m = 2, 2\n",
    "plot(tspan_fs, real(rho_int_l[1][:, n, m]), label=\"exact\", linealpha = 0.5, linewidth = 3, linestyle = :solid)\n",
    "plot!(tspan_fs, real(rho_int_l[2][:, n, m]), label=\"QME.ansatz.test\", linealpha = 0.5, linewidth = 3, linestyle = :solid)\n",
    "plot!(tspan_fs, real(rho_int_l[3][:, n, m]), label=\"QME.ansatz.const_int\", linealpha = 0.5, linewidth = 3, linestyle = :dash)\n",
    "plot!(tspan_fs, real(rho_int_l[4][:, n, m]), label=\"QME.ansatz.upart1_int\", linealpha = 0.5, linewidth = 3, linestyle = :dash)\n",
    "plot!(tspan_fs, real(rho_int_l[5][:, n, m]), label=\"QME.ansatz.upart2_int\", linealpha = 0.5, linewidth = 3, linestyle = :dash)\n",
    "plot!(tspan_fs, real(rho_int_l[6][:, n, m]), label=\"QME.ansatz.iter1\", linealpha = 0.5, linewidth = 3, linestyle = :solid)\n",
    "\n",
    "p = plot!(ylabel=\"ρ₂₂(t)\", xlabel=\"t (fs)\", margin = 5mm, dpi=400, size=(700,500), ylim=(0, 1))"
   ]
  },
  {
   "cell_type": "code",
   "execution_count": null,
   "id": "fa0de272",
   "metadata": {},
   "outputs": [],
   "source": []
  },
  {
   "cell_type": "code",
   "execution_count": null,
   "id": "35ba907c",
   "metadata": {
    "ExecuteTime": {
     "start_time": "2022-04-22T15:17:23.799Z"
    }
   },
   "outputs": [],
   "source": [
    "n, m = 2, 2\n",
    "plot(tspan_fs, real(rho_exc_l[1][:, n, m]), label=\"exact\", linealpha = 0.5, linewidth = 3, linestyle = :solid)\n",
    "plot!(tspan_fs, real(rho_exc_l[2][:, n, m]), label=\"QME.ansatz.test\", linealpha = 0.5, linewidth = 3, linestyle = :solid)\n",
    "plot!(tspan_fs, real(rho_exc_l[3][:, n, m]), label=\"QME.ansatz.const_int\", linealpha = 0.5, linewidth = 3, linestyle = :dash)\n",
    "plot!(tspan_fs, real(rho_exc_l[4][:, n, m]), label=\"QME.ansatz.upart1_int\", linealpha = 0.5, linewidth = 3, linestyle = :dash)\n",
    "plot!(tspan_fs, real(rho_exc_l[5][:, n, m]), label=\"QME.ansatz.upart2_int\", linealpha = 0.5, linewidth = 3, linestyle = :dash)\n",
    "plot!(tspan_fs, real(rho_exc_l[6][:, n, m]), label=\"QME.ansatz.iter1\", linealpha = 0.5, linewidth = 3, linestyle = :solid)\n",
    "\n",
    "p = plot!(ylabel=\"ρ₂₂(t)\", xlabel=\"t (fs)\", margin = 5mm, dpi=400, size=(700,500), ylim=(0, 1))"
   ]
  },
  {
   "cell_type": "code",
   "execution_count": null,
   "id": "2d213ad8",
   "metadata": {},
   "outputs": [],
   "source": []
  },
  {
   "cell_type": "code",
   "execution_count": null,
   "id": "1798fec0",
   "metadata": {
    "ExecuteTime": {
     "start_time": "2022-04-22T15:17:23.805Z"
    }
   },
   "outputs": [],
   "source": [
    "n, m = 2, 2\n",
    "plot(tspan_fs, real(rho_l[1][:, n, m]), label=\"exact\", linealpha = 0.5, linewidth = 3, linestyle = :solid)\n",
    "plot!(tspan_fs, real(rho_l[2][:, n, m]), label=\"QME.ansatz.test\", linealpha = 0.5, linewidth = 3, linestyle = :solid)\n",
    "plot!(tspan_fs, real(rho_l[3][:, n, m]), label=\"QME.ansatz.const_int\", linealpha = 0.5, linewidth = 3, linestyle = :dash)\n",
    "plot!(tspan_fs, real(rho_l[4][:, n, m]), label=\"QME.ansatz.upart1_int\", linealpha = 0.5, linewidth = 3, linestyle = :dash)\n",
    "plot!(tspan_fs, real(rho_l[5][:, n, m]), label=\"QME.ansatz.upart2_int\", linealpha = 0.5, linewidth = 3, linestyle = :dash)\n",
    "plot!(tspan_fs, real(rho_l[6][:, n, m]), label=\"QME.ansatz.iter1\", linealpha = 0.5, linewidth = 3, linestyle = :solid)\n",
    "\n",
    "p = plot!(ylabel=\"ρ₂₂(t)\", xlabel=\"t (fs)\", margin = 5mm, dpi=400, size=(700,500), ylim=(0, 1))"
   ]
  },
  {
   "cell_type": "code",
   "execution_count": null,
   "id": "58a225f2",
   "metadata": {},
   "outputs": [],
   "source": []
  },
  {
   "cell_type": "code",
   "execution_count": null,
   "id": "67804de2",
   "metadata": {},
   "outputs": [],
   "source": []
  },
  {
   "cell_type": "code",
   "execution_count": null,
   "id": "29c190d3",
   "metadata": {},
   "outputs": [],
   "source": []
  },
  {
   "cell_type": "code",
   "execution_count": null,
   "id": "7c0d8076",
   "metadata": {},
   "outputs": [],
   "source": []
  }
 ],
 "metadata": {
  "kernelspec": {
   "display_name": "Julia 1.6.3",
   "language": "julia",
   "name": "julia-1.6"
  },
  "language_info": {
   "file_extension": ".jl",
   "mimetype": "application/julia",
   "name": "julia",
   "version": "1.6.3"
  },
  "toc": {
   "base_numbering": 1,
   "nav_menu": {},
   "number_sections": true,
   "sideBar": true,
   "skip_h1_title": false,
   "title_cell": "Table of Contents",
   "title_sidebar": "Contents",
   "toc_cell": false,
   "toc_position": {
    "height": "calc(100% - 180px)",
    "left": "10px",
    "top": "150px",
    "width": "384px"
   },
   "toc_section_display": true,
   "toc_window_display": true
  },
  "varInspector": {
   "cols": {
    "lenName": 16,
    "lenType": 16,
    "lenVar": 40
   },
   "kernels_config": {
    "python": {
     "delete_cmd_postfix": "",
     "delete_cmd_prefix": "del ",
     "library": "var_list.py",
     "varRefreshCmd": "print(var_dic_list())"
    },
    "r": {
     "delete_cmd_postfix": ") ",
     "delete_cmd_prefix": "rm(",
     "library": "var_list.r",
     "varRefreshCmd": "cat(var_dic_list()) "
    }
   },
   "types_to_exclude": [
    "module",
    "function",
    "builtin_function_or_method",
    "instance",
    "_Feature"
   ],
   "window_display": false
  }
 },
 "nbformat": 4,
 "nbformat_minor": 5
}
