{
 "cells": [
  {
   "cell_type": "code",
   "execution_count": 1,
   "id": "2c38ce33",
   "metadata": {
    "ExecuteTime": {
     "end_time": "2022-05-04T10:35:56.065000+02:00",
     "start_time": "2022-05-04T08:35:44.868Z"
    }
   },
   "outputs": [],
   "source": [
    "using Plots\n",
    "using BenchmarkTools\n",
    "using ProgressBars\n",
    "using LinearAlgebra\n",
    "using Random\n",
    "using QuadGK\n",
    "using ProgressMeter\n",
    "using SparseArrays\n",
    "using Interpolations\n",
    "using HDF5\n",
    "using Measures"
   ]
  },
  {
   "cell_type": "code",
   "execution_count": 2,
   "id": "c6869dd6",
   "metadata": {
    "ExecuteTime": {
     "end_time": "2022-05-04T10:36:09.500000+02:00",
     "start_time": "2022-05-04T08:35:45.012Z"
    }
   },
   "outputs": [
    {
     "name": "stderr",
     "output_type": "stream",
     "text": [
      "\u001b[32m\u001b[1m  Activating\u001b[22m\u001b[39m environment at `C:\\Users\\daniel.herman\\Documents\\Mgr\\OpenQuantumSystems\\OpenQuantumSystems.jl\\Project.toml`\n"
     ]
    }
   ],
   "source": [
    "using Revise\n",
    "using Pkg; Pkg.activate(raw\"C:\\Users\\daniel.herman\\Documents\\Mgr\\OpenQuantumSystems\\OpenQuantumSystems.jl\")\n",
    "using OpenQuantumSystems\n",
    "\n",
    "import Base.log10\n",
    "Random.seed!(0)\n",
    "\n",
    "import OrdinaryDiffEq, DiffEqCallbacks, DelayDiffEq\n",
    "import SparseArrays: sparse\n",
    "import QuantumOpticsBase"
   ]
  },
  {
   "cell_type": "code",
   "execution_count": 3,
   "id": "b61ad3e1",
   "metadata": {
    "ExecuteTime": {
     "end_time": "2022-05-04T10:36:10.727000+02:00",
     "start_time": "2022-05-04T08:35:45.139Z"
    }
   },
   "outputs": [],
   "source": [
    "sim_labels = [\n",
    "    \"Evolution_sI_exact\",\n",
    "    \"QME_sI_ansatz_test\",\n",
    "    \"QME_sI_ansatz_const_int\"\n",
    "]\n",
    "be = :none\n",
    "for ba in [:population, :population_coherences]\n",
    "    for normalize in [false, true]\n",
    "        for iter in [1, 2]\n",
    "            push!(sim_labels, \"QME_sI_iterative/rho_$(iter)/$(be)/$(ba)/$(normalize)\")\n",
    "            #push!(sim_labels, \"QME_sI_iterative/W_bath_$(iter)/$(be)/$(ba)/$(normalize)\")\n",
    "        end\n",
    "    end\n",
    "end"
   ]
  },
  {
   "cell_type": "code",
   "execution_count": 4,
   "id": "cad289f0",
   "metadata": {
    "ExecuteTime": {
     "end_time": "2022-05-04T10:36:13.086000+02:00",
     "start_time": "2022-05-04T08:35:45.283Z"
    }
   },
   "outputs": [
    {
     "data": {
      "text/plain": [
       "11-element Vector{String}:\n",
       " \"Evolution_sI_exact\"\n",
       " \"QME_sI_ansatz_test\"\n",
       " \"QME_sI_ansatz_const_int\"\n",
       " \"QME_sI_iterative/rho_1/none/population/false\"\n",
       " \"QME_sI_iterative/rho_2/none/population/false\"\n",
       " \"QME_sI_iterative/rho_1/none/population/true\"\n",
       " \"QME_sI_iterative/rho_2/none/population/true\"\n",
       " \"QME_sI_iterative/rho_1/none/population_coherences/false\"\n",
       " \"QME_sI_iterative/rho_2/none/population_coherences/false\"\n",
       " \"QME_sI_iterative/rho_1/none/population_coherences/true\"\n",
       " \"QME_sI_iterative/rho_2/none/population_coherences/true\""
      ]
     },
     "execution_count": 4,
     "metadata": {},
     "output_type": "execute_result"
    }
   ],
   "source": [
    "sim_labels"
   ]
  },
  {
   "cell_type": "code",
   "execution_count": 5,
   "id": "f6f8b031",
   "metadata": {
    "ExecuteTime": {
     "end_time": "2022-05-04T10:36:14.570000+02:00",
     "start_time": "2022-05-04T08:35:45.395Z"
    }
   },
   "outputs": [
    {
     "data": {
      "text/plain": [
       "read_data_pt (generic function with 1 method)"
      ]
     },
     "execution_count": 5,
     "metadata": {},
     "output_type": "execute_result"
    }
   ],
   "source": [
    "function read_data_pt(filename)\n",
    "    simulation_info, rho_int_l = h5open(filename, \"r\") do file\n",
    "        simulation_info = Dict{String,Any}(\"n\" => read(file, \"n\"))\n",
    "        for key in [\"hr1\", \"hr2\", \"tspan\", \"tspan_fs\"]\n",
    "            simulation_info[key] = read(file, key)\n",
    "        end\n",
    "        rho_int_l = []\n",
    "        for li=1:length(sim_labels)\n",
    "            label = sim_labels[li]\n",
    "            push!(rho_int_l, read(file, label))\n",
    "        end\n",
    "        return simulation_info, rho_int_l\n",
    "    end\n",
    "    return simulation_info, rho_int_l\n",
    "end"
   ]
  },
  {
   "cell_type": "code",
   "execution_count": 6,
   "id": "8acc4940",
   "metadata": {
    "ExecuteTime": {
     "end_time": "2022-05-04T10:36:14.690000+02:00",
     "start_time": "2022-05-04T08:35:45.987Z"
    }
   },
   "outputs": [
    {
     "data": {
      "text/plain": [
       "get_agg (generic function with 1 method)"
      ]
     },
     "execution_count": 6,
     "metadata": {},
     "output_type": "execute_result"
    }
   ],
   "source": [
    "function get_agg(hr1, hr2)\n",
    "    mols = [\n",
    "        Molecule([Mode(omega=200., hr_factor=hr1)], 3, [0., 12700.]),\n",
    "        Molecule([Mode(omega=200., hr_factor=hr2)], 3, [0., 12500.])\n",
    "    ]\n",
    "\n",
    "    aggCore = AggregateCore(mols)\n",
    "    for mol_i in 2:aggCore.molCount\n",
    "        aggCore.coupling[mol_i, mol_i+1] = 10\n",
    "        aggCore.coupling[mol_i+1, mol_i] = 10\n",
    "    end\n",
    "    agg = setupAggregate(aggCore)\n",
    "end"
   ]
  },
  {
   "cell_type": "code",
   "execution_count": 7,
   "id": "f6253411",
   "metadata": {
    "ExecuteTime": {
     "end_time": "2022-05-04T10:36:17.528000+02:00",
     "start_time": "2022-05-04T08:35:46.435Z"
    }
   },
   "outputs": [
    {
     "name": "stdout",
     "output_type": "stream",
     "text": [
      "\n"
     ]
    }
   ],
   "source": [
    "computed_data = []\n",
    "for filename in readdir(\"data\"; join=true)\n",
    "    simulation_info, rho_int_l = read_data_pt(filename)\n",
    "    push!(computed_data, [simulation_info, rho_int_l])\n",
    "end\n",
    "\n",
    "simulation_info, rho_int_l = computed_data[1]\n",
    "tspan = simulation_info[\"tspan\"]\n",
    "tspan_fs = simulation_info[\"tspan_fs\"]\n",
    "println(\"\")"
   ]
  },
  {
   "cell_type": "code",
   "execution_count": 8,
   "id": "0bc72dcd",
   "metadata": {
    "ExecuteTime": {
     "end_time": "2022-05-04T10:36:31.007000+02:00",
     "start_time": "2022-05-04T08:35:48.947Z"
    }
   },
   "outputs": [
    {
     "name": "stdout",
     "output_type": "stream",
     "text": [
      "10\n",
      "11\n",
      "12\n",
      "13\n",
      "14\n",
      "15\n",
      "16\n",
      "17\n",
      "18\n",
      "19\n",
      "20\n",
      "21\n",
      "22\n",
      "23\n",
      "24\n",
      "25\n",
      "26\n",
      "27\n",
      "28\n",
      "29\n",
      "30\n",
      "31\n",
      "32\n",
      "33\n",
      "34\n",
      "35\n",
      "36\n",
      "37\n",
      "38\n",
      "39\n",
      "40\n",
      "41\n",
      "42\n",
      "43\n",
      "44\n",
      "45\n",
      "46\n",
      "47\n",
      "48\n",
      "49\n",
      "50\n",
      "51\n",
      "52\n",
      "53\n",
      "54\n",
      "55\n",
      "56\n",
      "57\n",
      "58\n",
      "59\n",
      "60\n",
      "61\n",
      "62\n",
      "63\n",
      "64\n",
      "65\n",
      "66\n",
      "67\n",
      "68\n",
      "69\n",
      "70\n",
      "71\n",
      "72\n",
      "73\n",
      "74\n",
      "75\n",
      "76\n",
      "77\n",
      "78\n",
      "79\n",
      "80\n",
      "81\n",
      "82\n",
      "83\n",
      "84\n",
      "85\n",
      "86\n",
      "87\n",
      "88\n",
      "89\n",
      "90\n",
      "91\n",
      "92\n",
      "93\n",
      "94\n",
      "95\n",
      "96\n",
      "97\n",
      "98\n",
      "99\n"
     ]
    }
   ],
   "source": [
    "score_int = zeros(Float64, length(sim_labels), 3, 3, 10, 10) # simulations, eli, elj, hr1, hr2\n",
    "score_sch = zeros(Float64, length(sim_labels), 3, 3, 10, 10)\n",
    "score_exc = zeros(Float64, length(sim_labels), 3, 3, 10, 10)\n",
    "\n",
    "computed_n = Dict()\n",
    "simulation_dic = Dict()\n",
    "for (sim_info, rho_int_l) in computed_data\n",
    "    agg = get_agg(sim_info[\"hr1\"], sim_info[\"hr2\"])\n",
    "    n = sim_info[\"n\"]\n",
    "    hr1_i = n % 10 + 1\n",
    "    hr2_i = n ÷ 10 + 1\n",
    "    computed_n[n] = true\n",
    "    simulation_dic[n] = [sim_info, rho_int_l]\n",
    "    rho_l = []\n",
    "    for i=1:length(sim_labels)\n",
    "        push!(rho_l, interaction_pic_to_schroedinger_pic(rho_int_l[i], tspan, agg))\n",
    "    end\n",
    "\n",
    "    rho_exc_l = []\n",
    "    for i=1:length(sim_labels)\n",
    "        push!(rho_exc_l, local_st_to_exciton_st(rho_l[i], agg))\n",
    "    end\n",
    "\n",
    "    for li = 2:length(sim_labels)\n",
    "        label = sim_labels[li]\n",
    "        score_int[li, :, :, hr2_i, hr1_i] = compare_rho(rho_int_l[1], rho_int_l[li])\n",
    "        score_sch[li, :, :, hr2_i, hr1_i] = compare_rho(rho_l[1], rho_l[li])\n",
    "        score_exc[li, :, :, hr2_i, hr1_i] = compare_rho(rho_exc_l[1], rho_exc_l[li])\n",
    "    end\n",
    "end\n",
    "\n",
    "for n=0:99\n",
    "    if !haskey(computed_n, n)\n",
    "        println(n)\n",
    "    end\n",
    "end"
   ]
  },
  {
   "cell_type": "code",
   "execution_count": null,
   "id": "450124ed",
   "metadata": {
    "ExecuteTime": {
     "end_time": "2022-04-26T14:10:09.983000+02:00",
     "start_time": "2022-04-26T12:08:48.745Z"
    }
   },
   "outputs": [],
   "source": [
    "labels = Dict(\n",
    "    1 => \"exact\", 2 => \"QME.test\", \n",
    "    3 => \"QME.const_int\",  \n",
    "    4 => \"QME.upart1_int\",\n",
    "    5 => \"QME.upart2_int\", \n",
    "    6 => \"QME.iter1\"\n",
    ")\n",
    "\n",
    "hr_labels = map((n) -> string(round(n*0.01; digits=2)), 1:10)"
   ]
  },
  {
   "cell_type": "markdown",
   "id": "de082249",
   "metadata": {},
   "source": [
    "# Score int"
   ]
  },
  {
   "cell_type": "markdown",
   "id": "9fb9a28c",
   "metadata": {},
   "source": [
    "## Population"
   ]
  },
  {
   "cell_type": "code",
   "execution_count": null,
   "id": "6f58a3b8",
   "metadata": {
    "ExecuteTime": {
     "end_time": "2022-04-26T14:10:34.317000+02:00",
     "start_time": "2022-04-26T12:08:48.888Z"
    }
   },
   "outputs": [],
   "source": [
    "p_l = []\n",
    "for li=3:6\n",
    "    heatmap(hr_labels, hr_labels, log10.(score_int[li, 2, 2, :, :]), clim=(-7, -3))\n",
    "    p = plot!(\n",
    "        xlabel=\"S₁\", ylabel=\"S₂\",\n",
    "        dpi=400, title=labels[li]\n",
    "    )\n",
    "    push!(p_l, p)\n",
    "end\n",
    "\n",
    "plot(\n",
    "    p_l[1], p_l[2], \n",
    "    p_l[3], p_l[4], \n",
    "    layout = 4, margin = 5mm, size=(900,600),\n",
    "    xtickfontsize=6, ytickfontsize=6, titlefontsize=12\n",
    ")"
   ]
  },
  {
   "cell_type": "markdown",
   "id": "86494136",
   "metadata": {
    "ExecuteTime": {
     "end_time": "2022-04-19T13:09:25.108000+02:00",
     "start_time": "2022-04-19T11:09:25.081Z"
    }
   },
   "source": [
    "## Coherence"
   ]
  },
  {
   "cell_type": "code",
   "execution_count": null,
   "id": "dea3b0f1",
   "metadata": {
    "ExecuteTime": {
     "end_time": "2022-04-26T14:10:34.634000+02:00",
     "start_time": "2022-04-26T12:08:48.948Z"
    }
   },
   "outputs": [],
   "source": [
    "p_l = []\n",
    "for li=3:6\n",
    "    heatmap(hr_labels, hr_labels, log10.(score_int[li, 2, 3, :, :]), clim=(-7, -3))\n",
    "    p = plot!(\n",
    "        xlabel=\"S₁\", ylabel=\"S₂\",\n",
    "        dpi=400, title=labels[li]\n",
    "    )\n",
    "    push!(p_l, p)\n",
    "end\n",
    "\n",
    "plot(\n",
    "    p_l[1], p_l[2], \n",
    "    p_l[3], p_l[4], \n",
    "    layout = 4, margin = 5mm, size=(900,600),\n",
    "    xtickfontsize=6, ytickfontsize=6, titlefontsize=12\n",
    ")"
   ]
  },
  {
   "cell_type": "markdown",
   "id": "f71f06fe",
   "metadata": {},
   "source": [
    "# Score sch"
   ]
  },
  {
   "cell_type": "markdown",
   "id": "a6c95470",
   "metadata": {},
   "source": [
    "## Population"
   ]
  },
  {
   "cell_type": "code",
   "execution_count": null,
   "id": "7a4a45ee",
   "metadata": {
    "ExecuteTime": {
     "end_time": "2022-04-26T14:10:34.945000+02:00",
     "start_time": "2022-04-26T12:08:49.054Z"
    }
   },
   "outputs": [],
   "source": [
    "p_l = []\n",
    "for li=3:6\n",
    "    heatmap(hr_labels, hr_labels, log10.(score_sch[li, 2, 2, :, :]), clim=(-7, -3))\n",
    "    p = plot!(\n",
    "        xlabel=\"S₁\", ylabel=\"S₂\",\n",
    "        dpi=400, title=labels[li]\n",
    "    )\n",
    "    push!(p_l, p)\n",
    "end\n",
    "\n",
    "plot(\n",
    "    p_l[1], p_l[2], \n",
    "    p_l[3], p_l[4], \n",
    "    layout = 4, margin = 5mm, size=(900,600),\n",
    "    xtickfontsize=6, ytickfontsize=6, titlefontsize=12\n",
    ")"
   ]
  },
  {
   "cell_type": "markdown",
   "id": "158deb6b",
   "metadata": {},
   "source": [
    "## Coherence"
   ]
  },
  {
   "cell_type": "code",
   "execution_count": null,
   "id": "21880738",
   "metadata": {
    "ExecuteTime": {
     "end_time": "2022-04-26T14:10:35.280000+02:00",
     "start_time": "2022-04-26T12:08:49.121Z"
    }
   },
   "outputs": [],
   "source": [
    "p_l = []\n",
    "for li=3:6\n",
    "    heatmap(hr_labels, hr_labels, log10.(score_sch[li, 2, 3, :, :]), clim=(-7, -3))\n",
    "    p = plot!(\n",
    "        xlabel=\"S₁\", ylabel=\"S₂\",\n",
    "        dpi=400, title=labels[li]\n",
    "    )\n",
    "    push!(p_l, p)\n",
    "end\n",
    "\n",
    "plot(\n",
    "    p_l[1], p_l[2], \n",
    "    p_l[3], p_l[4], \n",
    "    layout = 4, margin = 5mm, size=(900,600),\n",
    "    xtickfontsize=6, ytickfontsize=6, titlefontsize=12\n",
    ")"
   ]
  },
  {
   "cell_type": "markdown",
   "id": "1248957c",
   "metadata": {},
   "source": [
    "# Score exc"
   ]
  },
  {
   "cell_type": "markdown",
   "id": "9c213c8e",
   "metadata": {},
   "source": [
    "## Population"
   ]
  },
  {
   "cell_type": "code",
   "execution_count": null,
   "id": "f77c8b9d",
   "metadata": {
    "ExecuteTime": {
     "end_time": "2022-04-26T14:10:35.587000+02:00",
     "start_time": "2022-04-26T12:08:49.284Z"
    }
   },
   "outputs": [],
   "source": [
    "p_l = []\n",
    "for li=3:6\n",
    "    heatmap(hr_labels, hr_labels, log10.(score_exc[li, 2, 2, :, :]), clim=(-7, -3))\n",
    "    p = plot!(\n",
    "        xlabel=\"S₁\", ylabel=\"S₂\",\n",
    "        dpi=400, title=labels[li]\n",
    "    )\n",
    "    push!(p_l, p)\n",
    "end\n",
    "\n",
    "plot(\n",
    "    p_l[1], p_l[2], \n",
    "    p_l[3], p_l[4], \n",
    "    layout = 4, margin = 5mm, size=(900,600),\n",
    "    xtickfontsize=6, ytickfontsize=6, titlefontsize=12\n",
    ")"
   ]
  },
  {
   "cell_type": "markdown",
   "id": "78874e22",
   "metadata": {},
   "source": [
    "## Coherence"
   ]
  },
  {
   "cell_type": "code",
   "execution_count": null,
   "id": "2a82bdb9",
   "metadata": {
    "ExecuteTime": {
     "end_time": "2022-04-26T14:10:35.905000+02:00",
     "start_time": "2022-04-26T12:08:49.406Z"
    }
   },
   "outputs": [],
   "source": [
    "p_l = []\n",
    "for li=3:6\n",
    "    heatmap(hr_labels, hr_labels, log10.(score_exc[li, 2, 3, :, :]), clim=(-7, -3))\n",
    "    p = plot!(\n",
    "        xlabel=\"S₁\", ylabel=\"S₂\",\n",
    "        dpi=400, title=labels[li]\n",
    "    )\n",
    "    push!(p_l, p)\n",
    "end\n",
    "\n",
    "plot(\n",
    "    p_l[1], p_l[2], \n",
    "    p_l[3], p_l[4], \n",
    "    layout = 4, margin = 5mm, size=(900,600),\n",
    "    xtickfontsize=6, ytickfontsize=6, titlefontsize=12\n",
    ")"
   ]
  },
  {
   "cell_type": "markdown",
   "id": "79eaef7b",
   "metadata": {},
   "source": [
    "# Score diff int"
   ]
  },
  {
   "cell_type": "markdown",
   "id": "7cdff6b3",
   "metadata": {},
   "source": [
    "## Population"
   ]
  },
  {
   "cell_type": "code",
   "execution_count": null,
   "id": "59908379",
   "metadata": {
    "ExecuteTime": {
     "end_time": "2022-04-26T14:10:36.985000+02:00",
     "start_time": "2022-04-26T12:08:49.702Z"
    }
   },
   "outputs": [],
   "source": [
    "p_l = []\n",
    "li_subset = [3, 4, 5, 6]\n",
    "for lii=1:length(li_subset)-1\n",
    "    li = li_subset[lii]\n",
    "    label_i = labels[li]\n",
    "    for ljj=lii+1:length(li_subset)\n",
    "        lj = li_subset[ljj]\n",
    "        label_j = labels[lj]\n",
    "        heatmap(hr_labels, hr_labels, score_int[li, 2, 2, :, :] - score_int[lj, 2, 2, :, :])\n",
    "        p = plot!(\n",
    "            xlabel=\"S₁\", ylabel=\"S₂\",\n",
    "            dpi=400, title=\"$(label_i) - $(label_j)\"\n",
    "        )\n",
    "        push!(p_l, p)\n",
    "    end\n",
    "end\n",
    "\n",
    "plot(\n",
    "    p_l[1], p_l[2], p_l[3], \n",
    "    p_l[4], p_l[5], p_l[6], \n",
    "    layout = (3, 2), margin = 5mm, size=(900,1000),\n",
    "    xtickfontsize=6, ytickfontsize=6, titlefontsize=12\n",
    ")"
   ]
  },
  {
   "cell_type": "markdown",
   "id": "7cf8308c",
   "metadata": {},
   "source": [
    "## Coherence"
   ]
  },
  {
   "cell_type": "code",
   "execution_count": null,
   "id": "2bed79ce",
   "metadata": {
    "ExecuteTime": {
     "end_time": "2022-04-26T14:10:37.456000+02:00",
     "start_time": "2022-04-26T12:08:49.808Z"
    }
   },
   "outputs": [],
   "source": [
    "p_l = []\n",
    "li_subset = [3, 4, 5, 6]\n",
    "for lii=1:length(li_subset)-1\n",
    "    li = li_subset[lii]\n",
    "    label_i = labels[li]\n",
    "    for ljj=lii+1:length(li_subset)\n",
    "        lj = li_subset[ljj]\n",
    "        label_j = labels[lj]\n",
    "        heatmap(hr_labels, hr_labels, score_int[li, 2, 3, :, :] - score_int[lj, 2, 3, :, :])\n",
    "        p = plot!(\n",
    "            xlabel=\"S₁\", ylabel=\"S₂\",\n",
    "            dpi=400, title=\"$(label_i) - $(label_j)\"\n",
    "        )\n",
    "        push!(p_l, p)\n",
    "    end\n",
    "end\n",
    "\n",
    "plot(\n",
    "    p_l[1], p_l[2], p_l[3], \n",
    "    p_l[4], p_l[5], p_l[6], \n",
    "    layout = (3, 2), margin = 5mm, size=(900,1000),\n",
    "    xtickfontsize=6, ytickfontsize=6, titlefontsize=12\n",
    ")"
   ]
  },
  {
   "cell_type": "markdown",
   "id": "8419afb5",
   "metadata": {},
   "source": [
    "# Score diff sch"
   ]
  },
  {
   "cell_type": "markdown",
   "id": "da65f0bb",
   "metadata": {},
   "source": [
    "## Population"
   ]
  },
  {
   "cell_type": "code",
   "execution_count": null,
   "id": "f1b93bb8",
   "metadata": {
    "ExecuteTime": {
     "end_time": "2022-04-26T14:10:37.988000+02:00",
     "start_time": "2022-04-26T12:08:50.026Z"
    }
   },
   "outputs": [],
   "source": [
    "p_l = []\n",
    "li_subset = [3, 4, 5, 6]\n",
    "for lii=1:length(li_subset)-1\n",
    "    li = li_subset[lii]\n",
    "    label_i = labels[li]\n",
    "    for ljj=lii+1:length(li_subset)\n",
    "        lj = li_subset[ljj]\n",
    "        label_j = labels[lj]\n",
    "        heatmap(hr_labels, hr_labels, score_sch[li, 2, 2, :, :] - score_int[lj, 2, 2, :, :])\n",
    "        p = plot!(\n",
    "            xlabel=\"S₁\", ylabel=\"S₂\",\n",
    "            dpi=400, title=\"$(label_i) - $(label_j)\"\n",
    "        )\n",
    "        push!(p_l, p)\n",
    "    end\n",
    "end\n",
    "\n",
    "plot(\n",
    "    p_l[1], p_l[2], p_l[3], \n",
    "    p_l[4], p_l[5], p_l[6], \n",
    "    layout = (3, 2), margin = 5mm, size=(900,1000),\n",
    "    xtickfontsize=6, ytickfontsize=6, titlefontsize=12\n",
    ")"
   ]
  },
  {
   "cell_type": "markdown",
   "id": "8e469538",
   "metadata": {},
   "source": [
    "## Coherence"
   ]
  },
  {
   "cell_type": "code",
   "execution_count": null,
   "id": "ee9b2c90",
   "metadata": {
    "ExecuteTime": {
     "end_time": "2022-04-26T14:10:38.443000+02:00",
     "start_time": "2022-04-26T12:08:50.178Z"
    }
   },
   "outputs": [],
   "source": [
    "p_l = []\n",
    "li_subset = [3, 4, 5, 6]\n",
    "for lii=1:length(li_subset)-1\n",
    "    li = li_subset[lii]\n",
    "    label_i = labels[li]\n",
    "    for ljj=lii+1:length(li_subset)\n",
    "        lj = li_subset[ljj]\n",
    "        label_j = labels[lj]\n",
    "        heatmap(hr_labels, hr_labels, score_sch[li, 2, 3, :, :] - score_int[lj, 2, 3, :, :])\n",
    "        p = plot!(\n",
    "            xlabel=\"S₁\", ylabel=\"S₂\",\n",
    "            dpi=400, title=\"$(label_i) - $(label_j)\"\n",
    "        )\n",
    "        push!(p_l, p)\n",
    "    end\n",
    "end\n",
    "\n",
    "plot(\n",
    "    p_l[1], p_l[2], p_l[3], \n",
    "    p_l[4], p_l[5], p_l[6], \n",
    "    layout = (3, 2), margin = 5mm, size=(900,1000),\n",
    "    xtickfontsize=6, ytickfontsize=6, titlefontsize=12\n",
    ")"
   ]
  },
  {
   "cell_type": "markdown",
   "id": "3deed863",
   "metadata": {},
   "source": [
    "# Score diff exc"
   ]
  },
  {
   "cell_type": "markdown",
   "id": "6026bb84",
   "metadata": {},
   "source": [
    "## Population"
   ]
  },
  {
   "cell_type": "code",
   "execution_count": null,
   "id": "340bdb5d",
   "metadata": {
    "ExecuteTime": {
     "end_time": "2022-04-26T14:10:38.908000+02:00",
     "start_time": "2022-04-26T12:08:50.429Z"
    }
   },
   "outputs": [],
   "source": [
    "p_l = []\n",
    "li_subset = [3, 4, 5, 6]\n",
    "for lii=1:length(li_subset)-1\n",
    "    li = li_subset[lii]\n",
    "    label_i = labels[li]\n",
    "    for ljj=lii+1:length(li_subset)\n",
    "        lj = li_subset[ljj]\n",
    "        label_j = labels[lj]\n",
    "        heatmap(hr_labels, hr_labels, score_exc[li, 2, 2, :, :] - score_exc[lj, 2, 2, :, :])\n",
    "        p = plot!(\n",
    "            xlabel=\"S₁\", ylabel=\"S₂\",\n",
    "            dpi=400, title=\"$(label_i) - $(label_j)\"\n",
    "        )\n",
    "        push!(p_l, p)\n",
    "    end\n",
    "end\n",
    "\n",
    "plot(\n",
    "    p_l[1], p_l[2], p_l[3], \n",
    "    p_l[4], p_l[5], p_l[6], \n",
    "    layout = (3, 2), margin = 5mm, size=(900,1000),\n",
    "    xtickfontsize=6, ytickfontsize=6, titlefontsize=12\n",
    ")"
   ]
  },
  {
   "cell_type": "markdown",
   "id": "64d7deb8",
   "metadata": {},
   "source": [
    "## Coherence"
   ]
  },
  {
   "cell_type": "code",
   "execution_count": null,
   "id": "fcbb1cb2",
   "metadata": {
    "ExecuteTime": {
     "end_time": "2022-04-26T14:10:39.438000+02:00",
     "start_time": "2022-04-26T12:08:50.532Z"
    }
   },
   "outputs": [],
   "source": [
    "p_l = []\n",
    "li_subset = [3, 4, 5, 6]\n",
    "for lii=1:length(li_subset)-1\n",
    "    li = li_subset[lii]\n",
    "    label_i = labels[li]\n",
    "    for ljj=lii+1:length(li_subset)\n",
    "        lj = li_subset[ljj]\n",
    "        label_j = labels[lj]\n",
    "        heatmap(hr_labels, hr_labels, score_exc[li, 2, 3, :, :] - score_exc[lj, 2, 3, :, :])\n",
    "        p = plot!(\n",
    "            xlabel=\"S₁\", ylabel=\"S₂\",\n",
    "            dpi=400, title=\"$(label_i) - $(label_j)\"\n",
    "        )\n",
    "        push!(p_l, p)\n",
    "    end\n",
    "end\n",
    "\n",
    "plot(\n",
    "    p_l[1], p_l[2], p_l[3], \n",
    "    p_l[4], p_l[5], p_l[6], \n",
    "    layout = (3, 2), margin = 5mm, size=(900,1000),\n",
    "    xtickfontsize=6, ytickfontsize=6, titlefontsize=12\n",
    ")"
   ]
  },
  {
   "cell_type": "code",
   "execution_count": 9,
   "id": "d65b8b05",
   "metadata": {
    "ExecuteTime": {
     "end_time": "2022-05-04T10:36:31.392000+02:00",
     "start_time": "2022-05-04T08:35:55.107Z"
    }
   },
   "outputs": [
    {
     "name": "stdout",
     "output_type": "stream",
     "text": [
      "10 1\n",
      "\n"
     ]
    }
   ],
   "source": [
    "sim_info, rho_int_l = simulation_dic[9]\n",
    "agg = get_agg(sim_info[\"hr1\"], sim_info[\"hr2\"])\n",
    "n = sim_info[\"n\"]\n",
    "hr1_i = n % 10 + 1\n",
    "hr2_i = n ÷ 10 + 1\n",
    "println(hr1_i, \" \", hr2_i)\n",
    "for i=1:length(rho_int_l)\n",
    "    rho_int_l[i] = operator_recast(rho_int_l[i])\n",
    "end\n",
    "rho_l = []\n",
    "for i=1:length(rho_int_l)\n",
    "    push!(rho_l, interaction_pic_to_schroedinger_pic(rho_int_l[i], tspan, agg))\n",
    "end\n",
    "\n",
    "rho_exc_l = []\n",
    "for i=1:length(rho_int_l)\n",
    "    push!(rho_exc_l, local_st_to_exciton_st(rho_l[i], agg))\n",
    "end\n",
    "println(\"\")"
   ]
  },
  {
   "cell_type": "code",
   "execution_count": 10,
   "id": "70fa9e9e",
   "metadata": {
    "ExecuteTime": {
     "end_time": "2022-05-04T10:36:31.411000+02:00",
     "start_time": "2022-05-04T08:35:55.235Z"
    }
   },
   "outputs": [
    {
     "data": {
      "text/plain": [
       "11-element Vector{String}:\n",
       " \"Evolution_sI_exact\"\n",
       " \"QME_sI_ansatz_test\"\n",
       " \"QME_sI_ansatz_const_int\"\n",
       " \"QME_sI_iterative/rho_1/none/population/false\"\n",
       " \"QME_sI_iterative/rho_2/none/population/false\"\n",
       " \"QME_sI_iterative/rho_1/none/population/true\"\n",
       " \"QME_sI_iterative/rho_2/none/population/true\"\n",
       " \"QME_sI_iterative/rho_1/none/population_coherences/false\"\n",
       " \"QME_sI_iterative/rho_2/none/population_coherences/false\"\n",
       " \"QME_sI_iterative/rho_1/none/population_coherences/true\"\n",
       " \"QME_sI_iterative/rho_2/none/population_coherences/true\""
      ]
     },
     "execution_count": 10,
     "metadata": {},
     "output_type": "execute_result"
    }
   ],
   "source": [
    "sim_labels"
   ]
  },
  {
   "cell_type": "code",
   "execution_count": null,
   "id": "35ba907c",
   "metadata": {
    "ExecuteTime": {
     "start_time": "2022-05-04T08:35:55.379Z"
    }
   },
   "outputs": [],
   "source": [
    "n, m = 2, 2\n",
    "plot(tspan_fs, real(rho_int_l[1][:, n, m]), label=\"exact\", linealpha = 0.5, linewidth = 3, linestyle = :solid)\n",
    "plot!(tspan_fs, real(rho_int_l[2][:, n, m]), label=\"QME.ansatz.test\", linealpha = 0.5, linewidth = 3, linestyle = :solid)\n",
    "plot!(tspan_fs, real(rho_int_l[3][:, n, m]), label=\"QME.ansatz.const_int\", linealpha = 0.5, linewidth = 3, linestyle = :dash)\n",
    "plot!(tspan_fs, real(rho_int_l[4][:, n, m]), label=sim_labels[4], linealpha = 0.5, linewidth = 3, linestyle = :dash)\n",
    "plot!(tspan_fs, real(rho_int_l[5][:, n, m]), label=sim_labels[5], linealpha = 0.5, linewidth = 3, linestyle = :dash)\n",
    "\n",
    "p = plot!(ylabel=\"ρ₂₂(t)\", xlabel=\"t (fs)\", margin = 5mm, dpi=400, size=(700,500))"
   ]
  },
  {
   "cell_type": "code",
   "execution_count": null,
   "id": "1798fec0",
   "metadata": {
    "ExecuteTime": {
     "start_time": "2022-05-04T08:35:55.522Z"
    }
   },
   "outputs": [],
   "source": [
    "n, m = 2, 2\n",
    "plot(tspan_fs, real(rho_int_l[1][:, n, m]), label=\"exact\", linealpha = 0.5, linewidth = 3, linestyle = :solid)\n",
    "plot!(tspan_fs, real(rho_int_l[2][:, n, m]), label=\"QME.ansatz.test\", linealpha = 0.5, linewidth = 3, linestyle = :solid)\n",
    "plot!(tspan_fs, real(rho_int_l[3][:, n, m]), label=\"QME.ansatz.const_int\", linealpha = 0.5, linewidth = 3, linestyle = :dash)\n",
    "plot!(tspan_fs, real(rho_int_l[6][:, n, m]), label=sim_labels[6], linealpha = 0.5, linewidth = 3, linestyle = :dash)\n",
    "plot!(tspan_fs, real(rho_int_l[7][:, n, m]), label=sim_labels[7], linealpha = 0.5, linewidth = 3, linestyle = :dash)\n",
    "\n",
    "p = plot!(ylabel=\"ρ₂₂(t)\", xlabel=\"t (fs)\", margin = 5mm, dpi=400, size=(700,500))"
   ]
  },
  {
   "cell_type": "code",
   "execution_count": null,
   "id": "29c190d3",
   "metadata": {
    "ExecuteTime": {
     "start_time": "2022-05-04T08:35:55.652Z"
    }
   },
   "outputs": [],
   "source": [
    "n, m = 2, 2\n",
    "plot(tspan_fs, real(rho_int_l[1][:, n, m]), label=\"exact\", linealpha = 0.5, linewidth = 3, linestyle = :solid)\n",
    "plot!(tspan_fs, real(rho_int_l[2][:, n, m]), label=\"QME.ansatz.test\", linealpha = 0.5, linewidth = 3, linestyle = :solid)\n",
    "plot!(tspan_fs, real(rho_int_l[3][:, n, m]), label=\"QME.ansatz.const_int\", linealpha = 0.5, linewidth = 3, linestyle = :dash)\n",
    "plot!(tspan_fs, real(rho_int_l[8][:, n, m]), label=sim_labels[8], linealpha = 0.5, linewidth = 3, linestyle = :dash)\n",
    "plot!(tspan_fs, real(rho_int_l[9][:, n, m]), label=sim_labels[9], linealpha = 0.5, linewidth = 3, linestyle = :dash)\n",
    "\n",
    "p = plot!(ylabel=\"ρ₂₂(t)\", xlabel=\"t (fs)\", margin = 5mm, dpi=400, size=(700,500))"
   ]
  },
  {
   "cell_type": "code",
   "execution_count": null,
   "id": "7c0d8076",
   "metadata": {
    "ExecuteTime": {
     "start_time": "2022-05-04T08:35:56.083Z"
    }
   },
   "outputs": [],
   "source": [
    "n, m = 2, 2\n",
    "plot(tspan_fs, real(rho_int_l[1][:, n, m]), label=\"exact\", linealpha = 0.5, linewidth = 3, linestyle = :solid)\n",
    "plot!(tspan_fs, real(rho_int_l[2][:, n, m]), label=\"QME.ansatz.test\", linealpha = 0.5, linewidth = 3, linestyle = :solid)\n",
    "plot!(tspan_fs, real(rho_int_l[3][:, n, m]), label=\"QME.ansatz.const_int\", linealpha = 0.5, linewidth = 3, linestyle = :dash)\n",
    "plot!(tspan_fs, real(rho_int_l[8][:, n, m]), label=sim_labels[10], linealpha = 0.5, linewidth = 3, linestyle = :dash)\n",
    "plot!(tspan_fs, real(rho_int_l[9][:, n, m]), label=sim_labels[11], linealpha = 0.5, linewidth = 3, linestyle = :dash)\n",
    "\n",
    "p = plot!(ylabel=\"ρ₂₂(t)\", xlabel=\"t (fs)\", margin = 5mm, dpi=400, size=(700,500))"
   ]
  },
  {
   "cell_type": "code",
   "execution_count": null,
   "id": "46400c86",
   "metadata": {},
   "outputs": [],
   "source": []
  }
 ],
 "metadata": {
  "kernelspec": {
   "display_name": "Julia 1.6.3",
   "language": "julia",
   "name": "julia-1.6"
  },
  "language_info": {
   "file_extension": ".jl",
   "mimetype": "application/julia",
   "name": "julia",
   "version": "1.6.3"
  },
  "toc": {
   "base_numbering": 1,
   "nav_menu": {},
   "number_sections": true,
   "sideBar": true,
   "skip_h1_title": false,
   "title_cell": "Table of Contents",
   "title_sidebar": "Contents",
   "toc_cell": false,
   "toc_position": {
    "height": "calc(100% - 180px)",
    "left": "10px",
    "top": "150px",
    "width": "384px"
   },
   "toc_section_display": true,
   "toc_window_display": true
  },
  "varInspector": {
   "cols": {
    "lenName": 16,
    "lenType": 16,
    "lenVar": 40
   },
   "kernels_config": {
    "python": {
     "delete_cmd_postfix": "",
     "delete_cmd_prefix": "del ",
     "library": "var_list.py",
     "varRefreshCmd": "print(var_dic_list())"
    },
    "r": {
     "delete_cmd_postfix": ") ",
     "delete_cmd_prefix": "rm(",
     "library": "var_list.r",
     "varRefreshCmd": "cat(var_dic_list()) "
    }
   },
   "types_to_exclude": [
    "module",
    "function",
    "builtin_function_or_method",
    "instance",
    "_Feature"
   ],
   "window_display": false
  }
 },
 "nbformat": 4,
 "nbformat_minor": 5
}
